{
 "cells": [
  {
   "cell_type": "code",
   "execution_count": 2,
   "metadata": {
    "ExecuteTime": {
     "end_time": "2018-11-24T21:55:28.951967Z",
     "start_time": "2018-11-24T21:55:28.449021Z"
    }
   },
   "outputs": [],
   "source": [
    "import pandas as pd"
   ]
  },
  {
   "cell_type": "code",
   "execution_count": 3,
   "metadata": {
    "ExecuteTime": {
     "end_time": "2018-11-24T21:55:29.744148Z",
     "start_time": "2018-11-24T21:55:28.954836Z"
    }
   },
   "outputs": [],
   "source": [
    "import nltk"
   ]
  },
  {
   "cell_type": "code",
   "execution_count": 4,
   "metadata": {
    "ExecuteTime": {
     "end_time": "2018-11-24T21:55:30.691668Z",
     "start_time": "2018-11-24T21:55:29.746698Z"
    }
   },
   "outputs": [],
   "source": [
    "train = pd.read_csv(\"data/train_data.csv\").drop(\"is_duplicate\",axis=1)"
   ]
  },
  {
   "cell_type": "code",
   "execution_count": 5,
   "metadata": {
    "ExecuteTime": {
     "end_time": "2018-11-24T21:55:30.946811Z",
     "start_time": "2018-11-24T21:55:30.696997Z"
    }
   },
   "outputs": [],
   "source": [
    "test = pd.read_csv(\"data/test_data.csv\")"
   ]
  },
  {
   "cell_type": "code",
   "execution_count": 6,
   "metadata": {
    "ExecuteTime": {
     "end_time": "2018-11-24T21:55:30.953170Z",
     "start_time": "2018-11-24T21:55:30.950500Z"
    }
   },
   "outputs": [],
   "source": [
    "import sklearn"
   ]
  },
  {
   "cell_type": "code",
   "execution_count": 7,
   "metadata": {
    "ExecuteTime": {
     "end_time": "2018-11-24T21:55:30.980352Z",
     "start_time": "2018-11-24T21:55:30.956137Z"
    }
   },
   "outputs": [
    {
     "data": {
      "text/html": [
       "<div>\n",
       "<style scoped>\n",
       "    .dataframe tbody tr th:only-of-type {\n",
       "        vertical-align: middle;\n",
       "    }\n",
       "\n",
       "    .dataframe tbody tr th {\n",
       "        vertical-align: top;\n",
       "    }\n",
       "\n",
       "    .dataframe thead th {\n",
       "        text-align: right;\n",
       "    }\n",
       "</style>\n",
       "<table border=\"1\" class=\"dataframe\">\n",
       "  <thead>\n",
       "    <tr style=\"text-align: right;\">\n",
       "      <th></th>\n",
       "      <th>id</th>\n",
       "      <th>question1</th>\n",
       "      <th>question2</th>\n",
       "    </tr>\n",
       "  </thead>\n",
       "  <tbody>\n",
       "    <tr>\n",
       "      <th>0</th>\n",
       "      <td>0</td>\n",
       "      <td>What is the step by step guide to invest in sh...</td>\n",
       "      <td>What is the step by step guide to invest in sh...</td>\n",
       "    </tr>\n",
       "    <tr>\n",
       "      <th>1</th>\n",
       "      <td>1</td>\n",
       "      <td>What is the story of Kohinoor (Koh-i-Noor) Dia...</td>\n",
       "      <td>What would happen if the Indian government sto...</td>\n",
       "    </tr>\n",
       "    <tr>\n",
       "      <th>2</th>\n",
       "      <td>2</td>\n",
       "      <td>How can I increase the speed of my internet co...</td>\n",
       "      <td>How can Internet speed be increased by hacking...</td>\n",
       "    </tr>\n",
       "    <tr>\n",
       "      <th>3</th>\n",
       "      <td>3</td>\n",
       "      <td>Why am I mentally very lonely? How can I solve...</td>\n",
       "      <td>Find the remainder when [math]23^{24}[/math] i...</td>\n",
       "    </tr>\n",
       "    <tr>\n",
       "      <th>4</th>\n",
       "      <td>4</td>\n",
       "      <td>Which one dissolve in water quikly sugar, salt...</td>\n",
       "      <td>Which fish would survive in salt water?</td>\n",
       "    </tr>\n",
       "  </tbody>\n",
       "</table>\n",
       "</div>"
      ],
      "text/plain": [
       "   id                                          question1  \\\n",
       "0   0  What is the step by step guide to invest in sh...   \n",
       "1   1  What is the story of Kohinoor (Koh-i-Noor) Dia...   \n",
       "2   2  How can I increase the speed of my internet co...   \n",
       "3   3  Why am I mentally very lonely? How can I solve...   \n",
       "4   4  Which one dissolve in water quikly sugar, salt...   \n",
       "\n",
       "                                           question2  \n",
       "0  What is the step by step guide to invest in sh...  \n",
       "1  What would happen if the Indian government sto...  \n",
       "2  How can Internet speed be increased by hacking...  \n",
       "3  Find the remainder when [math]23^{24}[/math] i...  \n",
       "4            Which fish would survive in salt water?  "
      ]
     },
     "execution_count": 7,
     "metadata": {},
     "output_type": "execute_result"
    }
   ],
   "source": [
    "train.head()"
   ]
  },
  {
   "cell_type": "markdown",
   "metadata": {},
   "source": [
    "# Remove NANs"
   ]
  },
  {
   "cell_type": "code",
   "execution_count": 8,
   "metadata": {
    "ExecuteTime": {
     "end_time": "2018-11-24T21:55:31.082424Z",
     "start_time": "2018-11-24T21:55:30.982821Z"
    }
   },
   "outputs": [],
   "source": [
    "train = train[~(train.question2.isna() | train.question1.isna())]"
   ]
  },
  {
   "cell_type": "markdown",
   "metadata": {},
   "source": [
    "# Spell Check"
   ]
  },
  {
   "cell_type": "code",
   "execution_count": 13,
   "metadata": {
    "ExecuteTime": {
     "end_time": "2018-11-24T21:56:30.354484Z",
     "start_time": "2018-11-24T21:56:28.988447Z"
    }
   },
   "outputs": [
    {
     "data": {
      "text/plain": [
       "True"
      ]
     },
     "execution_count": 13,
     "metadata": {},
     "output_type": "execute_result"
    }
   ],
   "source": [
    "import jamspell\n",
    "\n",
    "corrector = jamspell.TSpellCorrector()\n",
    "corrector.LoadLangModel('spell_checker/en.bin')"
   ]
  },
  {
   "cell_type": "code",
   "execution_count": 24,
   "metadata": {
    "ExecuteTime": {
     "end_time": "2018-11-24T22:20:23.121203Z",
     "start_time": "2018-11-24T22:20:23.117305Z"
    }
   },
   "outputs": [],
   "source": [
    "q1 = train.question1.values\n",
    "q2 = train.question2.values"
   ]
  },
  {
   "cell_type": "code",
   "execution_count": 25,
   "metadata": {
    "ExecuteTime": {
     "end_time": "2018-11-24T22:20:23.317550Z",
     "start_time": "2018-11-24T22:20:23.313585Z"
    }
   },
   "outputs": [],
   "source": [
    "import numpy as np"
   ]
  },
  {
   "cell_type": "code",
   "execution_count": 26,
   "metadata": {
    "ExecuteTime": {
     "end_time": "2018-11-24T22:20:23.588346Z",
     "start_time": "2018-11-24T22:20:23.585448Z"
    }
   },
   "outputs": [],
   "source": [
    "v_corrector = np.vectorize(corrector.FixFragment)"
   ]
  },
  {
   "cell_type": "code",
   "execution_count": 27,
   "metadata": {
    "ExecuteTime": {
     "end_time": "2018-11-24T22:29:31.544531Z",
     "start_time": "2018-11-24T22:20:23.884852Z"
    }
   },
   "outputs": [],
   "source": [
    "q1_corrected = v_corrector(q1)"
   ]
  },
  {
   "cell_type": "code",
   "execution_count": 29,
   "metadata": {
    "ExecuteTime": {
     "end_time": "2018-11-24T22:52:13.045345Z",
     "start_time": "2018-11-24T22:42:56.715432Z"
    }
   },
   "outputs": [],
   "source": [
    "q2_corrected = v_corrector(q2)"
   ]
  },
  {
   "cell_type": "code",
   "execution_count": 31,
   "metadata": {
    "ExecuteTime": {
     "end_time": "2018-11-24T23:03:04.933433Z",
     "start_time": "2018-11-24T23:03:04.926593Z"
    }
   },
   "outputs": [
    {
     "data": {
      "text/plain": [
       "(323160,)"
      ]
     },
     "execution_count": 31,
     "metadata": {},
     "output_type": "execute_result"
    }
   ],
   "source": [
    "q2_corrected.shape"
   ]
  },
  {
   "cell_type": "code",
   "execution_count": 34,
   "metadata": {
    "ExecuteTime": {
     "end_time": "2018-11-24T23:04:12.294533Z",
     "start_time": "2018-11-24T23:04:11.523145Z"
    }
   },
   "outputs": [
    {
     "data": {
      "text/html": [
       "<div>\n",
       "<style scoped>\n",
       "    .dataframe tbody tr th:only-of-type {\n",
       "        vertical-align: middle;\n",
       "    }\n",
       "\n",
       "    .dataframe tbody tr th {\n",
       "        vertical-align: top;\n",
       "    }\n",
       "\n",
       "    .dataframe thead th {\n",
       "        text-align: right;\n",
       "    }\n",
       "</style>\n",
       "<table border=\"1\" class=\"dataframe\">\n",
       "  <thead>\n",
       "    <tr style=\"text-align: right;\">\n",
       "      <th></th>\n",
       "      <th>q1</th>\n",
       "      <th>q2</th>\n",
       "    </tr>\n",
       "  </thead>\n",
       "  <tbody>\n",
       "    <tr>\n",
       "      <th>0</th>\n",
       "      <td>What is the step by step guide to invest in sh...</td>\n",
       "      <td>What is the step by step guide to invest in sh...</td>\n",
       "    </tr>\n",
       "    <tr>\n",
       "      <th>1</th>\n",
       "      <td>What is the story of Kohinoor (Koh-i-Noor) Dia...</td>\n",
       "      <td>What would happen if the Indian government sto...</td>\n",
       "    </tr>\n",
       "    <tr>\n",
       "      <th>2</th>\n",
       "      <td>How can I increase the speed of my internet co...</td>\n",
       "      <td>How can Internet speed be increased by hacking...</td>\n",
       "    </tr>\n",
       "    <tr>\n",
       "      <th>3</th>\n",
       "      <td>Why am I mentally very lonely? How can I solve...</td>\n",
       "      <td>Find the remainder when [math]23^{24}[/math] i...</td>\n",
       "    </tr>\n",
       "    <tr>\n",
       "      <th>4</th>\n",
       "      <td>Which one dissolve in water quickly sugar, sal...</td>\n",
       "      <td>Which fish would survive in salt water?</td>\n",
       "    </tr>\n",
       "    <tr>\n",
       "      <th>5</th>\n",
       "      <td>Astrology: I am a Capricorn Sun Cap moon and c...</td>\n",
       "      <td>I'm a triple Capricorn (Sun, Moon and ascendan...</td>\n",
       "    </tr>\n",
       "    <tr>\n",
       "      <th>6</th>\n",
       "      <td>Should I buy tiago?</td>\n",
       "      <td>What keeps children active and far from phone ...</td>\n",
       "    </tr>\n",
       "    <tr>\n",
       "      <th>7</th>\n",
       "      <td>How can I be a good geologist?</td>\n",
       "      <td>What should I do to be a great geologist?</td>\n",
       "    </tr>\n",
       "    <tr>\n",
       "      <th>8</th>\n",
       "      <td>When do you use シ instead of し?</td>\n",
       "      <td>When do you use \"&amp;\" instead of \"and\"?</td>\n",
       "    </tr>\n",
       "    <tr>\n",
       "      <th>9</th>\n",
       "      <td>Motorola (company): Can I hack my Charter Moto...</td>\n",
       "      <td>How do I hack Motorola DCX3400 for free internet?</td>\n",
       "    </tr>\n",
       "    <tr>\n",
       "      <th>10</th>\n",
       "      <td>Method to find separation of slits using fresn...</td>\n",
       "      <td>What are some of the things technicians can te...</td>\n",
       "    </tr>\n",
       "    <tr>\n",
       "      <th>11</th>\n",
       "      <td>How do I read and find my YouTube comments?</td>\n",
       "      <td>How can I see all my Youtube comments?</td>\n",
       "    </tr>\n",
       "    <tr>\n",
       "      <th>12</th>\n",
       "      <td>What can make Physics easy to learn?</td>\n",
       "      <td>How can you make physics easy to learn?</td>\n",
       "    </tr>\n",
       "    <tr>\n",
       "      <th>13</th>\n",
       "      <td>What was your first sexual experience like?</td>\n",
       "      <td>What was your first sexual experience?</td>\n",
       "    </tr>\n",
       "    <tr>\n",
       "      <th>14</th>\n",
       "      <td>What are the laws to change your status from a...</td>\n",
       "      <td>What are the laws to change your status from a...</td>\n",
       "    </tr>\n",
       "    <tr>\n",
       "      <th>15</th>\n",
       "      <td>What does manipulation mean?</td>\n",
       "      <td>What does manipulation means?</td>\n",
       "    </tr>\n",
       "    <tr>\n",
       "      <th>16</th>\n",
       "      <td>Why do girls want to be friends with the guy t...</td>\n",
       "      <td>How do guys feel after rejecting a girl?</td>\n",
       "    </tr>\n",
       "    <tr>\n",
       "      <th>17</th>\n",
       "      <td>Why are so many Quora users posting questions ...</td>\n",
       "      <td>Why do people ask Quora questions which can be...</td>\n",
       "    </tr>\n",
       "    <tr>\n",
       "      <th>18</th>\n",
       "      <td>Which is the best digital marketing institutio...</td>\n",
       "      <td>Which is the best digital marketing institute ...</td>\n",
       "    </tr>\n",
       "    <tr>\n",
       "      <th>19</th>\n",
       "      <td>What are the questions should not ask on Quora?</td>\n",
       "      <td>Which question should I ask on Quora?</td>\n",
       "    </tr>\n",
       "    <tr>\n",
       "      <th>20</th>\n",
       "      <td>What does it mean that every time I look at th...</td>\n",
       "      <td>How many times a day to a clock’s hands overlap?</td>\n",
       "    </tr>\n",
       "    <tr>\n",
       "      <th>21</th>\n",
       "      <td>What are some tips on making it through the jo...</td>\n",
       "      <td>What are some tips on making it through the jo...</td>\n",
       "    </tr>\n",
       "    <tr>\n",
       "      <th>22</th>\n",
       "      <td>What is web application?</td>\n",
       "      <td>What is the web application framework?</td>\n",
       "    </tr>\n",
       "    <tr>\n",
       "      <th>23</th>\n",
       "      <td>Does society place too much importance on sports?</td>\n",
       "      <td>How do sports contribute to the society?</td>\n",
       "    </tr>\n",
       "    <tr>\n",
       "      <th>24</th>\n",
       "      <td>What is best way to make money online?</td>\n",
       "      <td>What is best way to ask for money online?</td>\n",
       "    </tr>\n",
       "    <tr>\n",
       "      <th>25</th>\n",
       "      <td>How should I prepare for A final law?</td>\n",
       "      <td>How one should know that he/she completely pre...</td>\n",
       "    </tr>\n",
       "    <tr>\n",
       "      <th>26</th>\n",
       "      <td>What's one thing you would like to do better?</td>\n",
       "      <td>What's one thing you do despite knowing better?</td>\n",
       "    </tr>\n",
       "    <tr>\n",
       "      <th>27</th>\n",
       "      <td>What are some special cares for someone with a...</td>\n",
       "      <td>How can I keep my nose from getting stuffy at ...</td>\n",
       "    </tr>\n",
       "    <tr>\n",
       "      <th>28</th>\n",
       "      <td>What Game of Thrones villain would be the most...</td>\n",
       "      <td>What Game of Thrones villain would you most li...</td>\n",
       "    </tr>\n",
       "    <tr>\n",
       "      <th>29</th>\n",
       "      <td>Does the United States government still blackl...</td>\n",
       "      <td>How is the average speed of gas molecules dete...</td>\n",
       "    </tr>\n",
       "    <tr>\n",
       "      <th>...</th>\n",
       "      <td>...</td>\n",
       "      <td>...</td>\n",
       "    </tr>\n",
       "    <tr>\n",
       "      <th>323130</th>\n",
       "      <td>How do I make website like movies.to?</td>\n",
       "      <td>Which is the best way to make my website?</td>\n",
       "    </tr>\n",
       "    <tr>\n",
       "      <th>323131</th>\n",
       "      <td>Does IBM Watson use ElasticSearch?</td>\n",
       "      <td>Does Google use Elasticsearch?</td>\n",
       "    </tr>\n",
       "    <tr>\n",
       "      <th>323132</th>\n",
       "      <td>What are some of the most common questions ask...</td>\n",
       "      <td>What are the most common questions asked in in...</td>\n",
       "    </tr>\n",
       "    <tr>\n",
       "      <th>323133</th>\n",
       "      <td>What is Bitcoin? Is it legal in India?</td>\n",
       "      <td>Is Bitcoin legal in India?</td>\n",
       "    </tr>\n",
       "    <tr>\n",
       "      <th>323134</th>\n",
       "      <td>What is the difference between a psychologist ...</td>\n",
       "      <td>What is the difference between psychologist an...</td>\n",
       "    </tr>\n",
       "    <tr>\n",
       "      <th>323135</th>\n",
       "      <td>What do you think is wrong with Indian schools...</td>\n",
       "      <td>What is wrong with the current indian education?</td>\n",
       "    </tr>\n",
       "    <tr>\n",
       "      <th>323136</th>\n",
       "      <td>Which phone is best under 12000?</td>\n",
       "      <td>What is the best phone to buy below 15k?</td>\n",
       "    </tr>\n",
       "    <tr>\n",
       "      <th>323137</th>\n",
       "      <td>Who is the overall most popular Game of Throne...</td>\n",
       "      <td>Who is the most popular character in the Game ...</td>\n",
       "    </tr>\n",
       "    <tr>\n",
       "      <th>323138</th>\n",
       "      <td>How do you troubleshoot a Toshiba laptop?</td>\n",
       "      <td>How do I reset a Toshiba laptop?</td>\n",
       "    </tr>\n",
       "    <tr>\n",
       "      <th>323139</th>\n",
       "      <td>What is the green dot next to the phone icon o...</td>\n",
       "      <td>My boyfriend says he deleted his Facebook Mess...</td>\n",
       "    </tr>\n",
       "    <tr>\n",
       "      <th>323140</th>\n",
       "      <td>What are the causes of the fall of the Roman E...</td>\n",
       "      <td>What were the most important causes and effect...</td>\n",
       "    </tr>\n",
       "    <tr>\n",
       "      <th>323141</th>\n",
       "      <td>Why don't we still do great music like in the ...</td>\n",
       "      <td>Should I raise my young child on 80's music?</td>\n",
       "    </tr>\n",
       "    <tr>\n",
       "      <th>323142</th>\n",
       "      <td>Does Stalin have any grandchildren that are st...</td>\n",
       "      <td>What was Joseph Stalin's 5 year plan? How did ...</td>\n",
       "    </tr>\n",
       "    <tr>\n",
       "      <th>323143</th>\n",
       "      <td>What are the best new car products or inventio...</td>\n",
       "      <td>What are some mind-blowing vehicles tools that...</td>\n",
       "    </tr>\n",
       "    <tr>\n",
       "      <th>323144</th>\n",
       "      <td>What happens if you put milk in a coffee maker?</td>\n",
       "      <td>What would happen if I put milk instead of wat...</td>\n",
       "    </tr>\n",
       "    <tr>\n",
       "      <th>323145</th>\n",
       "      <td>Will the next generation of parenting change o...</td>\n",
       "      <td>What kind of parents will the next generation ...</td>\n",
       "    </tr>\n",
       "    <tr>\n",
       "      <th>323146</th>\n",
       "      <td>In accounting, why do we debit expenses and cr...</td>\n",
       "      <td>What is a utilities expense in accounting? How...</td>\n",
       "    </tr>\n",
       "    <tr>\n",
       "      <th>323147</th>\n",
       "      <td>What is copilotsearch.com?</td>\n",
       "      <td>What is ContenVania.com?</td>\n",
       "    </tr>\n",
       "    <tr>\n",
       "      <th>323148</th>\n",
       "      <td>What does analytics do?</td>\n",
       "      <td>What are analytical people like?</td>\n",
       "    </tr>\n",
       "    <tr>\n",
       "      <th>323149</th>\n",
       "      <td>What is the minimum time required to build a f...</td>\n",
       "      <td>What is a cheaper and quicker way to build an ...</td>\n",
       "    </tr>\n",
       "    <tr>\n",
       "      <th>323150</th>\n",
       "      <td>What are some outfit ideas to wear to a frat p...</td>\n",
       "      <td>What are some outfit ideas wear to a frat them...</td>\n",
       "    </tr>\n",
       "    <tr>\n",
       "      <th>323151</th>\n",
       "      <td>Why is Anarchy childish in Pokémon Ranger and ...</td>\n",
       "      <td>Why is Anarchy annoying in Pokemon ranger and ...</td>\n",
       "    </tr>\n",
       "    <tr>\n",
       "      <th>323152</th>\n",
       "      <td>How does a long distance relationship work?</td>\n",
       "      <td>How are long distance relationships maintained?</td>\n",
       "    </tr>\n",
       "    <tr>\n",
       "      <th>323153</th>\n",
       "      <td>What do you think of the removal of the MagSaf...</td>\n",
       "      <td>What will the CPU upgrade to the 2016 Apple Ma...</td>\n",
       "    </tr>\n",
       "    <tr>\n",
       "      <th>323154</th>\n",
       "      <td>What does Jainism say about homosexuality?</td>\n",
       "      <td>What does Jainism say about Gays and Homosexua...</td>\n",
       "    </tr>\n",
       "    <tr>\n",
       "      <th>323155</th>\n",
       "      <td>How many keywords are there in the Racket prog...</td>\n",
       "      <td>How many keywords are there in PERL Programmin...</td>\n",
       "    </tr>\n",
       "    <tr>\n",
       "      <th>323156</th>\n",
       "      <td>Do you believe there is life after death?</td>\n",
       "      <td>Is it true that there is life after death?</td>\n",
       "    </tr>\n",
       "    <tr>\n",
       "      <th>323157</th>\n",
       "      <td>What is one coin?</td>\n",
       "      <td>What's this coin?</td>\n",
       "    </tr>\n",
       "    <tr>\n",
       "      <th>323158</th>\n",
       "      <td>What is the approx annual cost of living while...</td>\n",
       "      <td>I am having little hairfall problem but I want...</td>\n",
       "    </tr>\n",
       "    <tr>\n",
       "      <th>323159</th>\n",
       "      <td>What is like to have sex with cousin?</td>\n",
       "      <td>What is it like to have sex with your cousin?</td>\n",
       "    </tr>\n",
       "  </tbody>\n",
       "</table>\n",
       "<p>323160 rows × 2 columns</p>\n",
       "</div>"
      ],
      "text/plain": [
       "                                                       q1  \\\n",
       "0       What is the step by step guide to invest in sh...   \n",
       "1       What is the story of Kohinoor (Koh-i-Noor) Dia...   \n",
       "2       How can I increase the speed of my internet co...   \n",
       "3       Why am I mentally very lonely? How can I solve...   \n",
       "4       Which one dissolve in water quickly sugar, sal...   \n",
       "5       Astrology: I am a Capricorn Sun Cap moon and c...   \n",
       "6                                     Should I buy tiago?   \n",
       "7                          How can I be a good geologist?   \n",
       "8                         When do you use シ instead of し?   \n",
       "9       Motorola (company): Can I hack my Charter Moto...   \n",
       "10      Method to find separation of slits using fresn...   \n",
       "11            How do I read and find my YouTube comments?   \n",
       "12                   What can make Physics easy to learn?   \n",
       "13            What was your first sexual experience like?   \n",
       "14      What are the laws to change your status from a...   \n",
       "15                           What does manipulation mean?   \n",
       "16      Why do girls want to be friends with the guy t...   \n",
       "17      Why are so many Quora users posting questions ...   \n",
       "18      Which is the best digital marketing institutio...   \n",
       "19        What are the questions should not ask on Quora?   \n",
       "20      What does it mean that every time I look at th...   \n",
       "21      What are some tips on making it through the jo...   \n",
       "22                               What is web application?   \n",
       "23      Does society place too much importance on sports?   \n",
       "24                 What is best way to make money online?   \n",
       "25                  How should I prepare for A final law?   \n",
       "26          What's one thing you would like to do better?   \n",
       "27      What are some special cares for someone with a...   \n",
       "28      What Game of Thrones villain would be the most...   \n",
       "29      Does the United States government still blackl...   \n",
       "...                                                   ...   \n",
       "323130              How do I make website like movies.to?   \n",
       "323131                 Does IBM Watson use ElasticSearch?   \n",
       "323132  What are some of the most common questions ask...   \n",
       "323133             What is Bitcoin? Is it legal in India?   \n",
       "323134  What is the difference between a psychologist ...   \n",
       "323135  What do you think is wrong with Indian schools...   \n",
       "323136                   Which phone is best under 12000?   \n",
       "323137  Who is the overall most popular Game of Throne...   \n",
       "323138          How do you troubleshoot a Toshiba laptop?   \n",
       "323139  What is the green dot next to the phone icon o...   \n",
       "323140  What are the causes of the fall of the Roman E...   \n",
       "323141  Why don't we still do great music like in the ...   \n",
       "323142  Does Stalin have any grandchildren that are st...   \n",
       "323143  What are the best new car products or inventio...   \n",
       "323144    What happens if you put milk in a coffee maker?   \n",
       "323145  Will the next generation of parenting change o...   \n",
       "323146  In accounting, why do we debit expenses and cr...   \n",
       "323147                         What is copilotsearch.com?   \n",
       "323148                            What does analytics do?   \n",
       "323149  What is the minimum time required to build a f...   \n",
       "323150  What are some outfit ideas to wear to a frat p...   \n",
       "323151  Why is Anarchy childish in Pokémon Ranger and ...   \n",
       "323152        How does a long distance relationship work?   \n",
       "323153  What do you think of the removal of the MagSaf...   \n",
       "323154         What does Jainism say about homosexuality?   \n",
       "323155  How many keywords are there in the Racket prog...   \n",
       "323156          Do you believe there is life after death?   \n",
       "323157                                  What is one coin?   \n",
       "323158  What is the approx annual cost of living while...   \n",
       "323159              What is like to have sex with cousin?   \n",
       "\n",
       "                                                       q2  \n",
       "0       What is the step by step guide to invest in sh...  \n",
       "1       What would happen if the Indian government sto...  \n",
       "2       How can Internet speed be increased by hacking...  \n",
       "3       Find the remainder when [math]23^{24}[/math] i...  \n",
       "4                 Which fish would survive in salt water?  \n",
       "5       I'm a triple Capricorn (Sun, Moon and ascendan...  \n",
       "6       What keeps children active and far from phone ...  \n",
       "7               What should I do to be a great geologist?  \n",
       "8                   When do you use \"&\" instead of \"and\"?  \n",
       "9       How do I hack Motorola DCX3400 for free internet?  \n",
       "10      What are some of the things technicians can te...  \n",
       "11                 How can I see all my Youtube comments?  \n",
       "12                How can you make physics easy to learn?  \n",
       "13                 What was your first sexual experience?  \n",
       "14      What are the laws to change your status from a...  \n",
       "15                          What does manipulation means?  \n",
       "16               How do guys feel after rejecting a girl?  \n",
       "17      Why do people ask Quora questions which can be...  \n",
       "18      Which is the best digital marketing institute ...  \n",
       "19                  Which question should I ask on Quora?  \n",
       "20       How many times a day to a clock’s hands overlap?  \n",
       "21      What are some tips on making it through the jo...  \n",
       "22                 What is the web application framework?  \n",
       "23               How do sports contribute to the society?  \n",
       "24              What is best way to ask for money online?  \n",
       "25      How one should know that he/she completely pre...  \n",
       "26        What's one thing you do despite knowing better?  \n",
       "27      How can I keep my nose from getting stuffy at ...  \n",
       "28      What Game of Thrones villain would you most li...  \n",
       "29      How is the average speed of gas molecules dete...  \n",
       "...                                                   ...  \n",
       "323130          Which is the best way to make my website?  \n",
       "323131                     Does Google use Elasticsearch?  \n",
       "323132  What are the most common questions asked in in...  \n",
       "323133                         Is Bitcoin legal in India?  \n",
       "323134  What is the difference between psychologist an...  \n",
       "323135   What is wrong with the current indian education?  \n",
       "323136           What is the best phone to buy below 15k?  \n",
       "323137  Who is the most popular character in the Game ...  \n",
       "323138                   How do I reset a Toshiba laptop?  \n",
       "323139  My boyfriend says he deleted his Facebook Mess...  \n",
       "323140  What were the most important causes and effect...  \n",
       "323141       Should I raise my young child on 80's music?  \n",
       "323142  What was Joseph Stalin's 5 year plan? How did ...  \n",
       "323143  What are some mind-blowing vehicles tools that...  \n",
       "323144  What would happen if I put milk instead of wat...  \n",
       "323145  What kind of parents will the next generation ...  \n",
       "323146  What is a utilities expense in accounting? How...  \n",
       "323147                           What is ContenVania.com?  \n",
       "323148                   What are analytical people like?  \n",
       "323149  What is a cheaper and quicker way to build an ...  \n",
       "323150  What are some outfit ideas wear to a frat them...  \n",
       "323151  Why is Anarchy annoying in Pokemon ranger and ...  \n",
       "323152    How are long distance relationships maintained?  \n",
       "323153  What will the CPU upgrade to the 2016 Apple Ma...  \n",
       "323154  What does Jainism say about Gays and Homosexua...  \n",
       "323155  How many keywords are there in PERL Programmin...  \n",
       "323156         Is it true that there is life after death?  \n",
       "323157                                  What's this coin?  \n",
       "323158  I am having little hairfall problem but I want...  \n",
       "323159      What is it like to have sex with your cousin?  \n",
       "\n",
       "[323160 rows x 2 columns]"
      ]
     },
     "execution_count": 34,
     "metadata": {},
     "output_type": "execute_result"
    }
   ],
   "source": [
    "pd.DataFrame({\"q1\":q1_corrected,\"q2\":q2_corrected})"
   ]
  },
  {
   "cell_type": "markdown",
   "metadata": {},
   "source": [
    "# Basic Cleaning"
   ]
  },
  {
   "cell_type": "code",
   "execution_count": 64,
   "metadata": {
    "ExecuteTime": {
     "end_time": "2018-11-24T17:47:35.907435Z",
     "start_time": "2018-11-24T17:47:35.459565Z"
    }
   },
   "outputs": [],
   "source": [
    "# lower case\n",
    "train[\"question1\"] = train.question1.str.lower()\n",
    "train[\"question2\"] = train.question2.str.lower()"
   ]
  },
  {
   "cell_type": "code",
   "execution_count": 65,
   "metadata": {
    "ExecuteTime": {
     "end_time": "2018-11-24T17:47:42.089148Z",
     "start_time": "2018-11-24T17:47:40.188149Z"
    }
   },
   "outputs": [],
   "source": [
    "#remove punctutaion\n",
    "import string\n",
    "\n",
    "punctuation_tbl = table = str.maketrans(dict.fromkeys(\"'!,?()\"))\n",
    "\n",
    "\n",
    "train[\"question1\"] = train[\"question1\"].apply(lambda x: str(x).translate(punctuation_tbl))\n",
    "train[\"question2\"] = train[\"question2\"].apply(lambda x: str(x).translate(punctuation_tbl))\n",
    "\n",
    "#note need to account for situation where where have \"%\" \"&\" questions"
   ]
  },
  {
   "cell_type": "code",
   "execution_count": 136,
   "metadata": {
    "ExecuteTime": {
     "end_time": "2018-11-24T21:27:53.985315Z",
     "start_time": "2018-11-24T21:27:53.974085Z"
    }
   },
   "outputs": [
    {
     "data": {
      "text/plain": [
       "id                                      105780\n",
       "question1       How can I develop android app?\n",
       "question2                                  NaN\n",
       "is_duplicate                               NaN\n",
       "Name: 84646, dtype: object"
      ]
     },
     "execution_count": 136,
     "metadata": {},
     "output_type": "execute_result"
    }
   ],
   "source": [
    "train.iloc[84646]"
   ]
  },
  {
   "cell_type": "code",
   "execution_count": 67,
   "metadata": {
    "ExecuteTime": {
     "end_time": "2018-11-24T17:48:02.226805Z",
     "start_time": "2018-11-24T17:47:44.582159Z"
    }
   },
   "outputs": [],
   "source": [
    "# remove stop words\n",
    "from nltk.corpus import stopwords\n",
    "stopwords = stopwords.words('english')\n",
    "\n",
    "\n",
    "train[\"question1\"] = train[\"question1\"].apply(lambda x: [item for item in str(x).split() if item not in stopwords])\n",
    "train[\"question2\"] = train[\"question2\"].apply(lambda x: [item for item in str(x).split() if item not in stopwords])"
   ]
  },
  {
   "cell_type": "code",
   "execution_count": 68,
   "metadata": {
    "ExecuteTime": {
     "end_time": "2018-11-24T17:48:02.245732Z",
     "start_time": "2018-11-24T17:48:02.229122Z"
    }
   },
   "outputs": [
    {
     "data": {
      "text/html": [
       "<div>\n",
       "<style scoped>\n",
       "    .dataframe tbody tr th:only-of-type {\n",
       "        vertical-align: middle;\n",
       "    }\n",
       "\n",
       "    .dataframe tbody tr th {\n",
       "        vertical-align: top;\n",
       "    }\n",
       "\n",
       "    .dataframe thead th {\n",
       "        text-align: right;\n",
       "    }\n",
       "</style>\n",
       "<table border=\"1\" class=\"dataframe\">\n",
       "  <thead>\n",
       "    <tr style=\"text-align: right;\">\n",
       "      <th></th>\n",
       "      <th>id</th>\n",
       "      <th>question1</th>\n",
       "      <th>question2</th>\n",
       "      <th>is_duplicate</th>\n",
       "    </tr>\n",
       "  </thead>\n",
       "  <tbody>\n",
       "    <tr>\n",
       "      <th>0</th>\n",
       "      <td>0</td>\n",
       "      <td>[step, step, guide, invest, share, market, india]</td>\n",
       "      <td>[step, step, guide, invest, share, market]</td>\n",
       "      <td>NaN</td>\n",
       "    </tr>\n",
       "    <tr>\n",
       "      <th>1</th>\n",
       "      <td>1</td>\n",
       "      <td>[story, kohinoor, koh-i-noor, diamond]</td>\n",
       "      <td>[would, happen, indian, government, stole, koh...</td>\n",
       "      <td>NaN</td>\n",
       "    </tr>\n",
       "    <tr>\n",
       "      <th>2</th>\n",
       "      <td>2</td>\n",
       "      <td>[increase, speed, internet, connection, using,...</td>\n",
       "      <td>[internet, speed, increased, hacking, dns]</td>\n",
       "      <td>NaN</td>\n",
       "    </tr>\n",
       "    <tr>\n",
       "      <th>3</th>\n",
       "      <td>3</td>\n",
       "      <td>[mentally, lonely, solve]</td>\n",
       "      <td>[find, remainder, [math]23^{24}[/math], divide...</td>\n",
       "      <td>NaN</td>\n",
       "    </tr>\n",
       "    <tr>\n",
       "      <th>4</th>\n",
       "      <td>4</td>\n",
       "      <td>[one, dissolve, water, quikly, sugar, salt, me...</td>\n",
       "      <td>[fish, would, survive, salt, water]</td>\n",
       "      <td>NaN</td>\n",
       "    </tr>\n",
       "  </tbody>\n",
       "</table>\n",
       "</div>"
      ],
      "text/plain": [
       "   id                                          question1  \\\n",
       "0   0  [step, step, guide, invest, share, market, india]   \n",
       "1   1             [story, kohinoor, koh-i-noor, diamond]   \n",
       "2   2  [increase, speed, internet, connection, using,...   \n",
       "3   3                          [mentally, lonely, solve]   \n",
       "4   4  [one, dissolve, water, quikly, sugar, salt, me...   \n",
       "\n",
       "                                           question2  is_duplicate  \n",
       "0         [step, step, guide, invest, share, market]           NaN  \n",
       "1  [would, happen, indian, government, stole, koh...           NaN  \n",
       "2         [internet, speed, increased, hacking, dns]           NaN  \n",
       "3  [find, remainder, [math]23^{24}[/math], divide...           NaN  \n",
       "4                [fish, would, survive, salt, water]           NaN  "
      ]
     },
     "execution_count": 68,
     "metadata": {},
     "output_type": "execute_result"
    }
   ],
   "source": [
    "train.head()"
   ]
  },
  {
   "cell_type": "code",
   "execution_count": 105,
   "metadata": {
    "ExecuteTime": {
     "end_time": "2018-11-24T18:08:44.273305Z",
     "start_time": "2018-11-24T18:08:44.268682Z"
    }
   },
   "outputs": [],
   "source": [
    "from nltk.stem.wordnet import WordNetLemmatizer\n",
    "wn = WordNetLemmatizer()"
   ]
  },
  {
   "cell_type": "code",
   "execution_count": 122,
   "metadata": {
    "ExecuteTime": {
     "end_time": "2018-11-24T18:13:21.048146Z",
     "start_time": "2018-11-24T18:13:21.041269Z"
    }
   },
   "outputs": [
    {
     "data": {
      "text/plain": [
       "[('and', 'CC')]"
      ]
     },
     "execution_count": 122,
     "metadata": {},
     "output_type": "execute_result"
    }
   ],
   "source": [
    "from nltk import word_tokenize\n",
    "text = (\"And now for cooked something completely different\").split()\n",
    "nltk.pos_tag([\"and\"])"
   ]
  },
  {
   "cell_type": "code",
   "execution_count": 115,
   "metadata": {
    "ExecuteTime": {
     "end_time": "2018-11-24T18:11:38.775480Z",
     "start_time": "2018-11-24T18:11:38.768929Z"
    }
   },
   "outputs": [
    {
     "data": {
      "text/plain": [
       "[('And', 'CC'),\n",
       " ('now', 'RB'),\n",
       " ('for', 'IN'),\n",
       " ('cooked', 'VBN'),\n",
       " ('something', 'NN'),\n",
       " ('completely', 'RB'),\n",
       " ('different', 'JJ')]"
      ]
     },
     "execution_count": 115,
     "metadata": {},
     "output_type": "execute_result"
    }
   ],
   "source": [
    "from nltk import word_tokenize\n",
    "text = word_tokenize(\"And now for cooked something completely different\")\n",
    "nltk.pos_tag(text)"
   ]
  },
  {
   "cell_type": "code",
   "execution_count": 126,
   "metadata": {
    "ExecuteTime": {
     "end_time": "2018-11-24T18:14:54.053426Z",
     "start_time": "2018-11-24T18:14:54.046672Z"
    }
   },
   "outputs": [],
   "source": [
    "from nltk.corpus import wordnet\n",
    "\n",
    "def get_wordnet_pos(text):\n",
    "    tag = nltk.pos_tag([text])[0][1]\n",
    "    \n",
    "    if tag.startswith('J'):\n",
    "        return wordnet.ADJ\n",
    "    elif tag.startswith('V'):\n",
    "        return wordnet.VERB\n",
    "    elif tag.startswith('N'):\n",
    "        return wordnet.NOUN\n",
    "    elif tag.startswith('R'):\n",
    "        return wordnet.ADV\n",
    "    else:\n",
    "        return wordnet.NOUN"
   ]
  },
  {
   "cell_type": "code",
   "execution_count": 128,
   "metadata": {
    "ExecuteTime": {
     "end_time": "2018-11-24T18:14:56.369335Z",
     "start_time": "2018-11-24T18:14:56.362575Z"
    }
   },
   "outputs": [
    {
     "data": {
      "text/plain": [
       "'loving'"
      ]
     },
     "execution_count": 128,
     "metadata": {},
     "output_type": "execute_result"
    }
   ],
   "source": [
    "\n",
    "wn.lemmatize(\"loving\",wordnet.ADV)"
   ]
  },
  {
   "cell_type": "code",
   "execution_count": 141,
   "metadata": {
    "ExecuteTime": {
     "end_time": "2018-11-24T18:29:58.029849Z",
     "start_time": "2018-11-24T18:23:28.300862Z"
    },
    "scrolled": true
   },
   "outputs": [],
   "source": [
    "train[\"question1\"] = train[\"question1\"].apply(lambda x: [wn.lemmatize(word,get_wordnet_pos(word)) for word in x])"
   ]
  },
  {
   "cell_type": "code",
   "execution_count": 148,
   "metadata": {
    "ExecuteTime": {
     "end_time": "2018-11-24T19:58:10.233417Z",
     "start_time": "2018-11-24T19:51:25.386384Z"
    },
    "scrolled": true
   },
   "outputs": [],
   "source": [
    "train[\"question2\"] = train[\"question2\"].apply(lambda x: [wn.lemmatize(word,get_wordnet_pos(word)) for word in x])"
   ]
  },
  {
   "cell_type": "markdown",
   "metadata": {},
   "source": [
    "# Other Features"
   ]
  },
  {
   "cell_type": "code",
   "execution_count": 69,
   "metadata": {
    "ExecuteTime": {
     "end_time": "2018-11-24T17:49:11.244576Z",
     "start_time": "2018-11-24T17:49:11.240466Z"
    }
   },
   "outputs": [],
   "source": [
    "# does it have math?\n",
    "def math_flag(row):\n",
    "    flag = -1\n",
    "    if str(row).find(\"[math]\") > -1:\n",
    "        flag = 1\n",
    "    else:\n",
    "        flag = -1\n",
    "        \n",
    "    return flag\n",
    "    "
   ]
  },
  {
   "cell_type": "code",
   "execution_count": 28,
   "metadata": {
    "ExecuteTime": {
     "end_time": "2018-11-24T17:18:27.176103Z",
     "start_time": "2018-11-24T17:18:16.965664Z"
    }
   },
   "outputs": [],
   "source": [
    "train2 = train\n",
    "train2[\"math\"] = train2.apply(lambda row: math_flag(row.question2), axis=1)"
   ]
  },
  {
   "cell_type": "markdown",
   "metadata": {},
   "source": [
    "\n",
    "# Spell Check"
   ]
  },
  {
   "cell_type": "code",
   "execution_count": 196,
   "metadata": {
    "ExecuteTime": {
     "end_time": "2018-11-24T20:29:12.781998Z",
     "start_time": "2018-11-24T20:29:12.774807Z"
    }
   },
   "outputs": [],
   "source": [
    "from spellchecker import SpellChecker\n",
    "\n",
    "def spell_check(line):\n",
    "\n",
    "    output = []\n",
    "    \n",
    "    spell = SpellChecker()\n",
    "\n",
    "    \n",
    "    for word in line:\n",
    "        if word.find(\"[math]\") != -1:\n",
    "            output.append(word)\n",
    "        else:\n",
    "            misspelled = spell.unknown([word])\n",
    "            if len(misspelled) > 0:\n",
    "                print(word)\n",
    "                correction = spell.correction(word)\n",
    "                output.append(correction)\n",
    "            else:\n",
    "                output.append(word)\n",
    "                \n",
    "    return output"
   ]
  },
  {
   "cell_type": "code",
   "execution_count": 197,
   "metadata": {
    "ExecuteTime": {
     "end_time": "2018-11-24T20:29:22.381551Z",
     "start_time": "2018-11-24T20:29:14.260973Z"
    }
   },
   "outputs": [
    {
     "name": "stdout",
     "output_type": "stream",
     "text": [
      "kohinoor\n",
      "koh-i-noor\n",
      "childern\n",
      "\"&\"\n",
      "\"and\"\n",
      "dcx3400\n"
     ]
    },
    {
     "data": {
      "text/plain": [
       "0           [step, step, guide, invest, share, market]\n",
       "1    [would, happen, indian, government, stole, koh...\n",
       "2               [internet, speed, increase, hack, dns]\n",
       "3    [find, remainder, [math]23^{24}[/math], divide...\n",
       "4                  [fish, would, survive, salt, water]\n",
       "5    [im, triple, capricorn, sun, moon, ascendant, ...\n",
       "6    [keep, children, active, far, phone, video, game]\n",
       "7                                   [great, geologist]\n",
       "8                               [use, &, instead, and]\n",
       "9            [hack, motorola, dcx3400, free, internet]\n",
       "Name: question2, dtype: object"
      ]
     },
     "execution_count": 197,
     "metadata": {},
     "output_type": "execute_result"
    }
   ],
   "source": [
    "train.head(10)[\"question2\"].apply(lambda x: spell_check(x))"
   ]
  },
  {
   "cell_type": "code",
   "execution_count": 194,
   "metadata": {
    "ExecuteTime": {
     "end_time": "2018-11-24T20:28:32.374740Z",
     "start_time": "2018-11-24T20:28:32.369203Z"
    }
   },
   "outputs": [
    {
     "data": {
      "text/plain": [
       "5333.333333333333"
      ]
     },
     "execution_count": 194,
     "metadata": {},
     "output_type": "execute_result"
    }
   ],
   "source": [
    "8*400000/10/60"
   ]
  },
  {
   "cell_type": "code",
   "execution_count": 192,
   "metadata": {
    "ExecuteTime": {
     "end_time": "2018-11-24T20:27:46.559613Z",
     "start_time": "2018-11-24T20:27:46.553118Z"
    }
   },
   "outputs": [
    {
     "data": {
      "text/plain": [
       "\"can't\""
      ]
     },
     "execution_count": 192,
     "metadata": {},
     "output_type": "execute_result"
    }
   ],
   "source": [
    "spell.correction(\"can't,\")"
   ]
  },
  {
   "cell_type": "code",
   "execution_count": 188,
   "metadata": {
    "ExecuteTime": {
     "end_time": "2018-11-24T20:26:37.613870Z",
     "start_time": "2018-11-24T20:26:37.605939Z"
    }
   },
   "outputs": [
    {
     "data": {
      "text/plain": [
       "-1"
      ]
     },
     "execution_count": 188,
     "metadata": {},
     "output_type": "execute_result"
    }
   ],
   "source": [
    "word = \"123word123\"\n",
    "word.find(\"シ\")"
   ]
  },
  {
   "cell_type": "code",
   "execution_count": 154,
   "metadata": {
    "ExecuteTime": {
     "end_time": "2018-11-24T20:12:45.194269Z",
     "start_time": "2018-11-24T20:12:43.002162Z"
    }
   },
   "outputs": [
    {
     "data": {
      "text/plain": [
       "{'happening', 'henning', 'penning'}"
      ]
     },
     "execution_count": 154,
     "metadata": {},
     "output_type": "execute_result"
    }
   ],
   "source": [
    "spell.candidates(word,)"
   ]
  },
  {
   "cell_type": "code",
   "execution_count": 156,
   "metadata": {
    "ExecuteTime": {
     "end_time": "2018-11-24T20:14:38.185867Z",
     "start_time": "2018-11-24T20:14:38.160232Z"
    }
   },
   "outputs": [
    {
     "data": {
      "text/html": [
       "<div>\n",
       "<style scoped>\n",
       "    .dataframe tbody tr th:only-of-type {\n",
       "        vertical-align: middle;\n",
       "    }\n",
       "\n",
       "    .dataframe tbody tr th {\n",
       "        vertical-align: top;\n",
       "    }\n",
       "\n",
       "    .dataframe thead th {\n",
       "        text-align: right;\n",
       "    }\n",
       "</style>\n",
       "<table border=\"1\" class=\"dataframe\">\n",
       "  <thead>\n",
       "    <tr style=\"text-align: right;\">\n",
       "      <th></th>\n",
       "      <th>id</th>\n",
       "      <th>question1</th>\n",
       "      <th>question2</th>\n",
       "      <th>is_duplicate</th>\n",
       "    </tr>\n",
       "  </thead>\n",
       "  <tbody>\n",
       "    <tr>\n",
       "      <th>0</th>\n",
       "      <td>0</td>\n",
       "      <td>[step, step, guide, invest, share, market, india]</td>\n",
       "      <td>[step, step, guide, invest, share, market]</td>\n",
       "      <td>NaN</td>\n",
       "    </tr>\n",
       "    <tr>\n",
       "      <th>1</th>\n",
       "      <td>1</td>\n",
       "      <td>[story, kohinoor, koh-i-noor, diamond]</td>\n",
       "      <td>[would, happen, indian, government, stole, koh...</td>\n",
       "      <td>NaN</td>\n",
       "    </tr>\n",
       "    <tr>\n",
       "      <th>2</th>\n",
       "      <td>2</td>\n",
       "      <td>[increase, speed, internet, connection, use, vpn]</td>\n",
       "      <td>[internet, speed, increase, hack, dns]</td>\n",
       "      <td>NaN</td>\n",
       "    </tr>\n",
       "    <tr>\n",
       "      <th>3</th>\n",
       "      <td>3</td>\n",
       "      <td>[mentally, lonely, solve]</td>\n",
       "      <td>[find, remainder, [math]23^{24}[/math], divide...</td>\n",
       "      <td>NaN</td>\n",
       "    </tr>\n",
       "    <tr>\n",
       "      <th>4</th>\n",
       "      <td>4</td>\n",
       "      <td>[one, dissolve, water, quikly, sugar, salt, me...</td>\n",
       "      <td>[fish, would, survive, salt, water]</td>\n",
       "      <td>NaN</td>\n",
       "    </tr>\n",
       "    <tr>\n",
       "      <th>5</th>\n",
       "      <td>5</td>\n",
       "      <td>[astrology:, capricorn, sun, cap, moon, cap, r...</td>\n",
       "      <td>[im, triple, capricorn, sun, moon, ascendant, ...</td>\n",
       "      <td>NaN</td>\n",
       "    </tr>\n",
       "    <tr>\n",
       "      <th>6</th>\n",
       "      <td>6</td>\n",
       "      <td>[buy, tiago]</td>\n",
       "      <td>[keep, childern, active, far, phone, video, game]</td>\n",
       "      <td>NaN</td>\n",
       "    </tr>\n",
       "    <tr>\n",
       "      <th>7</th>\n",
       "      <td>7</td>\n",
       "      <td>[good, geologist]</td>\n",
       "      <td>[great, geologist]</td>\n",
       "      <td>NaN</td>\n",
       "    </tr>\n",
       "    <tr>\n",
       "      <th>8</th>\n",
       "      <td>8</td>\n",
       "      <td>[use, シ, instead, し]</td>\n",
       "      <td>[use, \"&amp;\", instead, \"and\"]</td>\n",
       "      <td>NaN</td>\n",
       "    </tr>\n",
       "    <tr>\n",
       "      <th>9</th>\n",
       "      <td>9</td>\n",
       "      <td>[motorola, company:, hack, charter, motorolla,...</td>\n",
       "      <td>[hack, motorola, dcx3400, free, internet]</td>\n",
       "      <td>NaN</td>\n",
       "    </tr>\n",
       "    <tr>\n",
       "      <th>10</th>\n",
       "      <td>10</td>\n",
       "      <td>[method, find, separation, slit, use, fresnel,...</td>\n",
       "      <td>[thing, technician, tell, durability, reliabil...</td>\n",
       "      <td>NaN</td>\n",
       "    </tr>\n",
       "    <tr>\n",
       "      <th>11</th>\n",
       "      <td>11</td>\n",
       "      <td>[read, find, youtube, comment]</td>\n",
       "      <td>[see, youtube, comment]</td>\n",
       "      <td>NaN</td>\n",
       "    </tr>\n",
       "    <tr>\n",
       "      <th>12</th>\n",
       "      <td>12</td>\n",
       "      <td>[make, physic, easy, learn]</td>\n",
       "      <td>[make, physic, easy, learn]</td>\n",
       "      <td>NaN</td>\n",
       "    </tr>\n",
       "    <tr>\n",
       "      <th>13</th>\n",
       "      <td>13</td>\n",
       "      <td>[first, sexual, experience, like]</td>\n",
       "      <td>[first, sexual, experience]</td>\n",
       "      <td>NaN</td>\n",
       "    </tr>\n",
       "    <tr>\n",
       "      <th>14</th>\n",
       "      <td>14</td>\n",
       "      <td>[law, change, status, student, visa, green, ca...</td>\n",
       "      <td>[law, change, status, student, visa, green, ca...</td>\n",
       "      <td>NaN</td>\n",
       "    </tr>\n",
       "    <tr>\n",
       "      <th>15</th>\n",
       "      <td>16</td>\n",
       "      <td>[manipulation, mean]</td>\n",
       "      <td>[manipulation, mean]</td>\n",
       "      <td>NaN</td>\n",
       "    </tr>\n",
       "    <tr>\n",
       "      <th>16</th>\n",
       "      <td>17</td>\n",
       "      <td>[girl, want, friend, guy, reject]</td>\n",
       "      <td>[guy, feel, reject, girl]</td>\n",
       "      <td>NaN</td>\n",
       "    </tr>\n",
       "    <tr>\n",
       "      <th>17</th>\n",
       "      <td>18</td>\n",
       "      <td>[many, quora, user, post, question, readily, a...</td>\n",
       "      <td>[people, ask, quora, question, answer, easily,...</td>\n",
       "      <td>NaN</td>\n",
       "    </tr>\n",
       "    <tr>\n",
       "      <th>18</th>\n",
       "      <td>19</td>\n",
       "      <td>[best, digital, marketing, institution, banglore]</td>\n",
       "      <td>[best, digital, marketing, institute, pune]</td>\n",
       "      <td>NaN</td>\n",
       "    </tr>\n",
       "    <tr>\n",
       "      <th>19</th>\n",
       "      <td>22</td>\n",
       "      <td>[question, ask, quora]</td>\n",
       "      <td>[question, ask, quora]</td>\n",
       "      <td>NaN</td>\n",
       "    </tr>\n",
       "  </tbody>\n",
       "</table>\n",
       "</div>"
      ],
      "text/plain": [
       "    id                                          question1  \\\n",
       "0    0  [step, step, guide, invest, share, market, india]   \n",
       "1    1             [story, kohinoor, koh-i-noor, diamond]   \n",
       "2    2  [increase, speed, internet, connection, use, vpn]   \n",
       "3    3                          [mentally, lonely, solve]   \n",
       "4    4  [one, dissolve, water, quikly, sugar, salt, me...   \n",
       "5    5  [astrology:, capricorn, sun, cap, moon, cap, r...   \n",
       "6    6                                       [buy, tiago]   \n",
       "7    7                                  [good, geologist]   \n",
       "8    8                               [use, シ, instead, し]   \n",
       "9    9  [motorola, company:, hack, charter, motorolla,...   \n",
       "10  10  [method, find, separation, slit, use, fresnel,...   \n",
       "11  11                     [read, find, youtube, comment]   \n",
       "12  12                        [make, physic, easy, learn]   \n",
       "13  13                  [first, sexual, experience, like]   \n",
       "14  14  [law, change, status, student, visa, green, ca...   \n",
       "15  16                               [manipulation, mean]   \n",
       "16  17                  [girl, want, friend, guy, reject]   \n",
       "17  18  [many, quora, user, post, question, readily, a...   \n",
       "18  19  [best, digital, marketing, institution, banglore]   \n",
       "19  22                             [question, ask, quora]   \n",
       "\n",
       "                                            question2  is_duplicate  \n",
       "0          [step, step, guide, invest, share, market]           NaN  \n",
       "1   [would, happen, indian, government, stole, koh...           NaN  \n",
       "2              [internet, speed, increase, hack, dns]           NaN  \n",
       "3   [find, remainder, [math]23^{24}[/math], divide...           NaN  \n",
       "4                 [fish, would, survive, salt, water]           NaN  \n",
       "5   [im, triple, capricorn, sun, moon, ascendant, ...           NaN  \n",
       "6   [keep, childern, active, far, phone, video, game]           NaN  \n",
       "7                                  [great, geologist]           NaN  \n",
       "8                          [use, \"&\", instead, \"and\"]           NaN  \n",
       "9           [hack, motorola, dcx3400, free, internet]           NaN  \n",
       "10  [thing, technician, tell, durability, reliabil...           NaN  \n",
       "11                            [see, youtube, comment]           NaN  \n",
       "12                        [make, physic, easy, learn]           NaN  \n",
       "13                        [first, sexual, experience]           NaN  \n",
       "14  [law, change, status, student, visa, green, ca...           NaN  \n",
       "15                               [manipulation, mean]           NaN  \n",
       "16                          [guy, feel, reject, girl]           NaN  \n",
       "17  [people, ask, quora, question, answer, easily,...           NaN  \n",
       "18        [best, digital, marketing, institute, pune]           NaN  \n",
       "19                             [question, ask, quora]           NaN  "
      ]
     },
     "execution_count": 156,
     "metadata": {},
     "output_type": "execute_result"
    }
   ],
   "source": [
    "train.head(20)"
   ]
  },
  {
   "cell_type": "code",
   "execution_count": 199,
   "metadata": {
    "ExecuteTime": {
     "end_time": "2018-11-24T20:31:01.142638Z",
     "start_time": "2018-11-24T20:31:01.130412Z"
    }
   },
   "outputs": [
    {
     "ename": "ModuleNotFoundError",
     "evalue": "No module named 'jamspell'",
     "output_type": "error",
     "traceback": [
      "\u001b[0;31m---------------------------------------------------------------------------\u001b[0m",
      "\u001b[0;31mModuleNotFoundError\u001b[0m                       Traceback (most recent call last)",
      "\u001b[0;32m<ipython-input-199-9c6b24a55ff2>\u001b[0m in \u001b[0;36m<module>\u001b[0;34m\u001b[0m\n\u001b[0;32m----> 1\u001b[0;31m \u001b[0;32mimport\u001b[0m \u001b[0mjamspell\u001b[0m\u001b[0;34m\u001b[0m\u001b[0m\n\u001b[0m",
      "\u001b[0;31mModuleNotFoundError\u001b[0m: No module named 'jamspell'"
     ]
    }
   ],
   "source": [
    "import jamspell"
   ]
  },
  {
   "cell_type": "code",
   "execution_count": null,
   "metadata": {},
   "outputs": [],
   "source": []
  }
 ],
 "metadata": {
  "kernelspec": {
   "display_name": "AML",
   "language": "python",
   "name": "aml"
  },
  "language_info": {
   "codemirror_mode": {
    "name": "ipython",
    "version": 3
   },
   "file_extension": ".py",
   "mimetype": "text/x-python",
   "name": "python",
   "nbconvert_exporter": "python",
   "pygments_lexer": "ipython3",
   "version": "3.6.6"
  },
  "toc": {
   "base_numbering": 1,
   "nav_menu": {},
   "number_sections": true,
   "sideBar": true,
   "skip_h1_title": false,
   "title_cell": "Table of Contents",
   "title_sidebar": "Contents",
   "toc_cell": false,
   "toc_position": {},
   "toc_section_display": true,
   "toc_window_display": true
  }
 },
 "nbformat": 4,
 "nbformat_minor": 2
}
