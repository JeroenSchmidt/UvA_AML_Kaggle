{
 "cells": [
  {
   "cell_type": "markdown",
   "metadata": {
    "toc": true
   },
   "source": [
    "<h1>Table of Contents<span class=\"tocSkip\"></span></h1>\n",
    "<div class=\"toc\"><ul class=\"toc-item\"><li><span><a href=\"#Import-Train-Data-From-NN-Architectures-A-and-B-&amp;-NLP-Features\" data-toc-modified-id=\"Import-Train-Data-From-NN-Architectures-A-and-B-&amp;-NLP-Features-1\"><span class=\"toc-item-num\">1&nbsp;&nbsp;</span>Import Train Data From NN Architectures A and B &amp; NLP Features</a></span></li><li><span><a href=\"#Define-XGBoost-Model-and-Train\" data-toc-modified-id=\"Define-XGBoost-Model-and-Train-2\"><span class=\"toc-item-num\">2&nbsp;&nbsp;</span>Define XGBoost Model and Train</a></span></li><li><span><a href=\"#Load-Testing-Data-and-Predict-on-it\" data-toc-modified-id=\"Load-Testing-Data-and-Predict-on-it-3\"><span class=\"toc-item-num\">3&nbsp;&nbsp;</span>Load Testing Data and Predict on it</a></span></li><li><span><a href=\"#Feature-Importance\" data-toc-modified-id=\"Feature-Importance-4\"><span class=\"toc-item-num\">4&nbsp;&nbsp;</span>Feature Importance</a></span></li></ul></div>"
   ]
  },
  {
   "cell_type": "markdown",
   "metadata": {},
   "source": [
    "# Import Train Data From NN Architectures A and B & NLP Features"
   ]
  },
  {
   "cell_type": "code",
   "execution_count": 0,
   "metadata": {
    "colab": {},
    "colab_type": "code",
    "id": "lYzIzBYnQ7Id"
   },
   "outputs": [],
   "source": [
    "import pandas as pd"
   ]
  },
  {
   "cell_type": "code",
   "execution_count": 0,
   "metadata": {
    "colab": {},
    "colab_type": "code",
    "id": "yXsasie1Q_rI"
   },
   "outputs": [],
   "source": [
    "word2vec_pd = pd.read_csv(\"train_1_merge_dropout_word2vec.csv\").rename(columns={\"0\":\"word2vec\"})"
   ]
  },
  {
   "cell_type": "code",
   "execution_count": 0,
   "metadata": {
    "colab": {},
    "colab_type": "code",
    "id": "JIg_5k3cRMsI"
   },
   "outputs": [],
   "source": [
    "multi_merge_pd = pd.read_csv(\"train_1_merge_dropout.csv\").rename(columns={\"0\":\"glover\"})"
   ]
  },
  {
   "cell_type": "code",
   "execution_count": 0,
   "metadata": {
    "colab": {},
    "colab_type": "code",
    "id": "Bxxg8929SVuT"
   },
   "outputs": [],
   "source": [
    "dot_output_pd = pd.read_csv(\"train_output_merge_dot.csv\").rename(columns={\"0\":\"dot_output\"})\n",
    "dot_layer_pd = pd.read_csv(\"train_dot_layer_merge_dot.csv\").rename(columns={\"0\":\"dot_layer\"})"
   ]
  },
  {
   "cell_type": "code",
   "execution_count": 0,
   "metadata": {
    "colab": {},
    "colab_type": "code",
    "id": "HOU-ifdnYWdI"
   },
   "outputs": [],
   "source": [
    "manhat_output_pd = pd.read_csv(\"train_output_merge_manhat.csv\").rename(columns={\"0\":\"manhat_output\"})\n",
    "manhat_layer_pd = pd.read_csv(\"train_merge_manhat.csv\").rename(columns={\"0\":\"manhat_layer\"})\n",
    "\n"
   ]
  },
  {
   "cell_type": "code",
   "execution_count": 0,
   "metadata": {
    "colab": {
     "base_uri": "https://localhost:8080/",
     "height": 85
    },
    "colab_type": "code",
    "id": "sy8VQaq5Lqaz",
    "outputId": "0acc85e9-f0e7-46c2-e7c6-29e21ce71321"
   },
   "outputs": [
    {
     "name": "stdout",
     "output_type": "stream",
     "text": [
      "(323164, 2)\n",
      "(323164, 2)\n",
      "(323164, 2)\n",
      "(323164, 2)\n"
     ]
    }
   ],
   "source": [
    "print(word2vec_pd.shape)\n",
    "print(multi_merge_pd.shape)\n",
    "print(dot_output_pd.shape)\n",
    "print(dot_layer_pd.shape)"
   ]
  },
  {
   "cell_type": "code",
   "execution_count": 0,
   "metadata": {
    "colab": {},
    "colab_type": "code",
    "id": "Pwpj6npsRdKZ"
   },
   "outputs": [],
   "source": [
    "nlp_pd = pd.read_csv(\"train_features_34.csv\")"
   ]
  },
  {
   "cell_type": "code",
   "execution_count": 0,
   "metadata": {
    "colab": {
     "base_uri": "https://localhost:8080/",
     "height": 34
    },
    "colab_type": "code",
    "id": "POquQtZHLXIC",
    "outputId": "20413f03-44a6-4acf-efb7-e94adc984c4c"
   },
   "outputs": [
    {
     "data": {
      "text/plain": [
       "(323164, 35)"
      ]
     },
     "execution_count": 8,
     "metadata": {
      "tags": []
     },
     "output_type": "execute_result"
    }
   ],
   "source": [
    "nlp_pd.shape"
   ]
  },
  {
   "cell_type": "code",
   "execution_count": 0,
   "metadata": {
    "colab": {},
    "colab_type": "code",
    "id": "X-h0lWXRRtbv"
   },
   "outputs": [],
   "source": [
    "result = nlp_pd.merge(multi_merge_pd,on=\"id\",how=\"inner\")\\\n",
    "        .merge(word2vec_pd,on=\"id\",how=\"inner\")\\\n",
    "        .merge(dot_output_pd,on=\"id\",how=\"inner\")\\\n",
    "        .merge(dot_layer_pd,on=\"id\",how=\"inner\")\\\n",
    "        .merge(manhat_output_pd,on=\"id\",how=\"inner\")\\\n",
    "        .merge(manhat_layer_pd,on=\"id\",how=\"inner\")"
   ]
  },
  {
   "cell_type": "code",
   "execution_count": 0,
   "metadata": {
    "colab": {},
    "colab_type": "code",
    "id": "xh-kyzvzLY8O"
   },
   "outputs": [],
   "source": [
    "# Uncomment this if you want the XGBoost Model to no consider the NN outputs \n",
    "#result = result.drop([\"glover\",\t\"word2vec\",\t\"dot_output\",\t\"dot_layer\",\t\"manhat_output\",\t\"manhat_layer\"],axis=1)"
   ]
  },
  {
   "cell_type": "code",
   "execution_count": 0,
   "metadata": {
    "colab": {
     "base_uri": "https://localhost:8080/",
     "height": 80
    },
    "colab_type": "code",
    "id": "47xGkqe6TSTa",
    "outputId": "4f53740d-64f5-4650-f0ba-1d973a386af9"
   },
   "outputs": [
    {
     "data": {
      "text/html": [
       "<div>\n",
       "<style scoped>\n",
       "    .dataframe tbody tr th:only-of-type {\n",
       "        vertical-align: middle;\n",
       "    }\n",
       "\n",
       "    .dataframe tbody tr th {\n",
       "        vertical-align: top;\n",
       "    }\n",
       "\n",
       "    .dataframe thead th {\n",
       "        text-align: right;\n",
       "    }\n",
       "</style>\n",
       "<table border=\"1\" class=\"dataframe\">\n",
       "  <thead>\n",
       "    <tr style=\"text-align: right;\">\n",
       "      <th></th>\n",
       "      <th>id</th>\n",
       "      <th>is_duplicate</th>\n",
       "    </tr>\n",
       "  </thead>\n",
       "  <tbody>\n",
       "    <tr>\n",
       "      <th>0</th>\n",
       "      <td>0</td>\n",
       "      <td>0</td>\n",
       "    </tr>\n",
       "  </tbody>\n",
       "</table>\n",
       "</div>"
      ],
      "text/plain": [
       "   id  is_duplicate\n",
       "0   0             0"
      ]
     },
     "execution_count": 49,
     "metadata": {
      "tags": []
     },
     "output_type": "execute_result"
    }
   ],
   "source": [
    "train_labels = pd.read_csv(\"train_labels.csv\")\n",
    "train_labels.head(1)"
   ]
  },
  {
   "cell_type": "code",
   "execution_count": 0,
   "metadata": {
    "colab": {
     "base_uri": "https://localhost:8080/",
     "height": 34
    },
    "colab_type": "code",
    "id": "CZe7P0vSLhL8",
    "outputId": "b3d7883d-af8d-4f43-ebf7-ec7e263e1da6"
   },
   "outputs": [
    {
     "data": {
      "text/plain": [
       "(323164, 2)"
      ]
     },
     "execution_count": 50,
     "metadata": {
      "tags": []
     },
     "output_type": "execute_result"
    }
   ],
   "source": [
    "train_labels.shape"
   ]
  },
  {
   "cell_type": "code",
   "execution_count": 0,
   "metadata": {
    "colab": {
     "base_uri": "https://localhost:8080/",
     "height": 204
    },
    "colab_type": "code",
    "id": "_JZJbDlrRvNj",
    "outputId": "bae8560c-d94d-49bd-e8d6-6d7e5dd96cd1"
   },
   "outputs": [
    {
     "data": {
      "text/plain": [
       "Index(['id', 'firstWordSame', 'firstWordSame_fuzzy', 'lastWordSame',\n",
       "       'lastWordSame_fuzzy', 'embedding_similarity',\n",
       "       'embedding_similarity_tfidf', 'word_ratio', 'char_ratio',\n",
       "       'math_similarity', 'token_similarity', 'token_similarity_idf',\n",
       "       'cross_correlation', 'cross_correlation_idf', 'q1_degree', 'q2_degree',\n",
       "       'intersection_count', '2grams', '3grams', '4grams', 'edit_score',\n",
       "       'jaro_score', 'rel_intersection', 'wl_ratio', 'stop_ratio', 'UC_ratio',\n",
       "       'why', 'what', 'when', 'where', 'how', 'who',\n",
       "       'embedding_similarity_max', 'embedding_similarity_max_tfidf',\n",
       "       'entity_score'],\n",
       "      dtype='object')"
      ]
     },
     "execution_count": 51,
     "metadata": {
      "tags": []
     },
     "output_type": "execute_result"
    }
   ],
   "source": [
    "result.columns"
   ]
  },
  {
   "cell_type": "code",
   "execution_count": 0,
   "metadata": {
    "colab": {
     "base_uri": "https://localhost:8080/",
     "height": 71
    },
    "colab_type": "code",
    "id": "qo8FQQEWS9rv",
    "outputId": "b027ca6f-55c7-4500-b99c-6e4486141da4"
   },
   "outputs": [
    {
     "name": "stderr",
     "output_type": "stream",
     "text": [
      "/usr/local/lib/python3.6/dist-packages/ipykernel_launcher.py:4: FutureWarning: Method .as_matrix will be removed in a future version. Use .values instead.\n",
      "  after removing the cwd from sys.path.\n"
     ]
    }
   ],
   "source": [
    "from sklearn.model_selection import train_test_split\n",
    "\n",
    "\n",
    "X_train, X_val, y_train, y_val= \\\n",
    "    train_test_split(result.drop([\"id\"],axis=1).as_matrix(),\n",
    "                     train_labels['is_duplicate'].values,\n",
    "                     stratify=train_labels['is_duplicate'].values,\n",
    "                     test_size=0.3, \n",
    "                     random_state=2018)"
   ]
  },
  {
   "cell_type": "markdown",
   "metadata": {},
   "source": [
    "# Define XGBoost Model and Train"
   ]
  },
  {
   "cell_type": "code",
   "execution_count": 0,
   "metadata": {
    "colab": {},
    "colab_type": "code",
    "id": "_sGRkCsSUWf5"
   },
   "outputs": [],
   "source": [
    "import xgboost as xgb"
   ]
  },
  {
   "cell_type": "code",
   "execution_count": 0,
   "metadata": {
    "colab": {},
    "colab_type": "code",
    "id": "zrgzaouQTvVC"
   },
   "outputs": [],
   "source": [
    "def train_xg(X_train,y_train,X_val,y_val,feature_names):\n",
    "  X_train = pd.DataFrame(data=X_train, columns=feature_names)\n",
    "  X_val = pd.DataFrame(data=X_val, columns=feature_names)\n",
    "  \n",
    "  \n",
    "  dTrain = xgb.DMatrix(X_train, label=y_train)\n",
    "  dVal = xgb.DMatrix(X_val, label=y_val)\n",
    "\n",
    "  xgb_params = {\n",
    "      'objective': 'binary:logistic',\n",
    "      'booster': 'gbtree',\n",
    "      'eval_metric': 'auc',\n",
    "      'eta': 0.1, \n",
    "      'max_depth': 4,\n",
    "      'subsample': 0.9,\n",
    "      'colsample_bytree': 1 / X_train.shape[1]**0.5,\n",
    "      'min_child_weight': 10,\n",
    "      'silent': 1\n",
    "  }\n",
    "\n",
    "  bst = xgb.train(xgb_params, dTrain, 1000,  [(dTrain,'train'), (dVal,'val')], \n",
    "                  verbose_eval=10, early_stopping_rounds=10)\n",
    "\n",
    "  return bst"
   ]
  },
  {
   "cell_type": "code",
   "execution_count": 0,
   "metadata": {
    "colab": {
     "base_uri": "https://localhost:8080/",
     "height": 1700
    },
    "colab_type": "code",
    "id": "T2s0QnxsUXiC",
    "outputId": "9a0d14f2-0bb9-463d-80a0-1a128cdee960",
    "scrolled": false
   },
   "outputs": [
    {
     "name": "stdout",
     "output_type": "stream",
     "text": [
      "[0]\ttrain-auc:0.785377\tval-auc:0.781489\n",
      "Multiple eval metrics have been passed: 'val-auc' will be used for early stopping.\n",
      "\n",
      "Will train until val-auc hasn't improved in 10 rounds.\n",
      "[10]\ttrain-auc:0.898664\tval-auc:0.895336\n",
      "[20]\ttrain-auc:0.91161\tval-auc:0.908924\n",
      "[30]\ttrain-auc:0.920625\tval-auc:0.918223\n",
      "[40]\ttrain-auc:0.923727\tval-auc:0.921303\n",
      "[50]\ttrain-auc:0.926131\tval-auc:0.923747\n",
      "[60]\ttrain-auc:0.928018\tval-auc:0.925616\n",
      "[70]\ttrain-auc:0.929839\tval-auc:0.92745\n",
      "[80]\ttrain-auc:0.932348\tval-auc:0.929897\n",
      "[90]\ttrain-auc:0.933307\tval-auc:0.930801\n",
      "[100]\ttrain-auc:0.934443\tval-auc:0.931866\n",
      "[110]\ttrain-auc:0.935418\tval-auc:0.932805\n",
      "[120]\ttrain-auc:0.936501\tval-auc:0.933896\n",
      "[130]\ttrain-auc:0.937198\tval-auc:0.934539\n",
      "[140]\ttrain-auc:0.938029\tval-auc:0.935313\n",
      "[150]\ttrain-auc:0.938691\tval-auc:0.935913\n",
      "[160]\ttrain-auc:0.939466\tval-auc:0.936605\n",
      "[170]\ttrain-auc:0.939814\tval-auc:0.936901\n",
      "[180]\ttrain-auc:0.940348\tval-auc:0.937352\n",
      "[190]\ttrain-auc:0.940713\tval-auc:0.937665\n",
      "[200]\ttrain-auc:0.941045\tval-auc:0.937973\n",
      "[210]\ttrain-auc:0.941515\tval-auc:0.938319\n",
      "[220]\ttrain-auc:0.941908\tval-auc:0.938633\n",
      "[230]\ttrain-auc:0.942292\tval-auc:0.938937\n",
      "[240]\ttrain-auc:0.942612\tval-auc:0.9392\n",
      "[250]\ttrain-auc:0.942943\tval-auc:0.939445\n",
      "[260]\ttrain-auc:0.943262\tval-auc:0.939685\n",
      "[270]\ttrain-auc:0.943499\tval-auc:0.93985\n",
      "[280]\ttrain-auc:0.94371\tval-auc:0.939969\n",
      "[290]\ttrain-auc:0.94393\tval-auc:0.940119\n",
      "[300]\ttrain-auc:0.944164\tval-auc:0.940294\n",
      "[310]\ttrain-auc:0.944423\tval-auc:0.940476\n",
      "[320]\ttrain-auc:0.944632\tval-auc:0.940602\n",
      "[330]\ttrain-auc:0.944829\tval-auc:0.9407\n",
      "[340]\ttrain-auc:0.945043\tval-auc:0.940833\n",
      "[350]\ttrain-auc:0.945243\tval-auc:0.940972\n",
      "[360]\ttrain-auc:0.945544\tval-auc:0.941127\n",
      "[370]\ttrain-auc:0.945733\tval-auc:0.941203\n",
      "[380]\ttrain-auc:0.945928\tval-auc:0.941322\n",
      "[390]\ttrain-auc:0.946124\tval-auc:0.941449\n",
      "[400]\ttrain-auc:0.946267\tval-auc:0.941512\n",
      "[410]\ttrain-auc:0.946465\tval-auc:0.941617\n",
      "[420]\ttrain-auc:0.946609\tval-auc:0.941687\n",
      "[430]\ttrain-auc:0.946759\tval-auc:0.94176\n",
      "[440]\ttrain-auc:0.946925\tval-auc:0.941858\n",
      "[450]\ttrain-auc:0.947098\tval-auc:0.941939\n",
      "[460]\ttrain-auc:0.947277\tval-auc:0.942048\n",
      "[470]\ttrain-auc:0.947463\tval-auc:0.942153\n",
      "[480]\ttrain-auc:0.947585\tval-auc:0.942221\n",
      "[490]\ttrain-auc:0.947693\tval-auc:0.942245\n",
      "[500]\ttrain-auc:0.947803\tval-auc:0.942283\n",
      "[510]\ttrain-auc:0.94795\tval-auc:0.942345\n",
      "[520]\ttrain-auc:0.948079\tval-auc:0.942403\n",
      "[530]\ttrain-auc:0.948217\tval-auc:0.942448\n",
      "[540]\ttrain-auc:0.948337\tval-auc:0.942494\n",
      "[550]\ttrain-auc:0.948497\tval-auc:0.942567\n",
      "[560]\ttrain-auc:0.948618\tval-auc:0.942615\n",
      "[570]\ttrain-auc:0.94874\tval-auc:0.942633\n",
      "[580]\ttrain-auc:0.948868\tval-auc:0.94269\n",
      "[590]\ttrain-auc:0.948977\tval-auc:0.942734\n",
      "[600]\ttrain-auc:0.949087\tval-auc:0.942769\n",
      "[610]\ttrain-auc:0.94923\tval-auc:0.942829\n",
      "[620]\ttrain-auc:0.949405\tval-auc:0.942883\n",
      "[630]\ttrain-auc:0.94951\tval-auc:0.94292\n",
      "[640]\ttrain-auc:0.949589\tval-auc:0.942938\n",
      "[650]\ttrain-auc:0.949715\tval-auc:0.942977\n",
      "[660]\ttrain-auc:0.949835\tval-auc:0.942992\n",
      "[670]\ttrain-auc:0.949969\tval-auc:0.943009\n",
      "[680]\ttrain-auc:0.950053\tval-auc:0.943047\n",
      "[690]\ttrain-auc:0.950148\tval-auc:0.943079\n",
      "[700]\ttrain-auc:0.950265\tval-auc:0.943133\n",
      "[710]\ttrain-auc:0.95035\tval-auc:0.943151\n",
      "[720]\ttrain-auc:0.95046\tval-auc:0.943187\n",
      "[730]\ttrain-auc:0.950552\tval-auc:0.94322\n",
      "[740]\ttrain-auc:0.950661\tval-auc:0.943271\n",
      "[750]\ttrain-auc:0.950776\tval-auc:0.943308\n",
      "[760]\ttrain-auc:0.950897\tval-auc:0.943339\n",
      "[770]\ttrain-auc:0.95102\tval-auc:0.943349\n",
      "[780]\ttrain-auc:0.95114\tval-auc:0.943393\n",
      "[790]\ttrain-auc:0.951232\tval-auc:0.943417\n",
      "[800]\ttrain-auc:0.951349\tval-auc:0.943451\n",
      "[810]\ttrain-auc:0.951456\tval-auc:0.943455\n",
      "[820]\ttrain-auc:0.951562\tval-auc:0.943477\n",
      "[830]\ttrain-auc:0.951654\tval-auc:0.943515\n",
      "[840]\ttrain-auc:0.951798\tval-auc:0.943575\n",
      "[850]\ttrain-auc:0.951895\tval-auc:0.943586\n",
      "[860]\ttrain-auc:0.952008\tval-auc:0.943625\n",
      "[870]\ttrain-auc:0.952102\tval-auc:0.943649\n",
      "[880]\ttrain-auc:0.952187\tval-auc:0.943669\n",
      "[890]\ttrain-auc:0.95229\tval-auc:0.9437\n",
      "[900]\ttrain-auc:0.952382\tval-auc:0.943725\n",
      "[910]\ttrain-auc:0.952491\tval-auc:0.943744\n",
      "[920]\ttrain-auc:0.952568\tval-auc:0.943755\n",
      "Stopping. Best iteration:\n",
      "[915]\ttrain-auc:0.952536\tval-auc:0.943757\n",
      "\n"
     ]
    }
   ],
   "source": [
    "xg1 = train_xg(X_train, y_train, X_val, y_val,result.columns[1:])"
   ]
  },
  {
   "cell_type": "markdown",
   "metadata": {},
   "source": [
    "# Load Testing Data and Predict on it"
   ]
  },
  {
   "cell_type": "code",
   "execution_count": 0,
   "metadata": {
    "colab": {},
    "colab_type": "code",
    "id": "BpQj7lGPWNff"
   },
   "outputs": [],
   "source": [
    "test_nlp_df = pd.read_csv(\"test_features_34.csv\")\n",
    "\n",
    "word2vec_test_pd = pd.read_csv(\"test_1_multi_merge_dropout_word2vec.csv\").rename(columns={\"0\":\"word2vec\"})\n",
    "multi_test_merge_pd = pd.read_csv(\"test_1_multi_merge_dropout.csv\").rename(columns={\"0\":\"glover\"})\n",
    "dot_test_output_pd = pd.read_csv(\"test_output_merge_dot.csv\").rename(columns={\"0\":\"dot_output\"})\n",
    "dot_test_layer_pd = pd.read_csv(\"test_dot_layer_merge_dot.csv\").rename(columns={\"0\":\"dot_layer\"})\n",
    "manhat_test_output_pd = pd.read_csv(\"test_output_merge_manhat.csv\").rename(columns={\"0\":\"manhat_output\"})\n",
    "manhat_test_layer_pd = pd.read_csv(\"test_merge_manhat.csv\").rename(columns={\"0\":\"manhat_layer\"})\n",
    "\n",
    "\n",
    "\n",
    "\n",
    "test_pd = test_nlp_df.merge(multi_test_merge_pd,on=\"test_id\",how=\"inner\")\\\n",
    "        .merge(word2vec_test_pd,on=\"test_id\",how=\"inner\")\\\n",
    "        .merge(dot_test_output_pd,on=\"test_id\",how=\"inner\")\\\n",
    "        .merge(dot_test_layer_pd,on=\"test_id\",how=\"inner\")\\\n",
    "        .merge(manhat_test_output_pd,on=\"test_id\",how=\"inner\")\\\n",
    "        .merge(manhat_test_layer_pd,on=\"test_id\",how=\"inner\")"
   ]
  },
  {
   "cell_type": "code",
   "execution_count": 0,
   "metadata": {
    "colab": {
     "base_uri": "https://localhost:8080/",
     "height": 34
    },
    "colab_type": "code",
    "id": "yxS4gfqcRisC",
    "outputId": "a636a232-7c3c-4626-97dc-0ce1b77ff3c7"
   },
   "outputs": [
    {
     "data": {
      "text/plain": [
       "(81126, 41)"
      ]
     },
     "execution_count": 116,
     "metadata": {
      "tags": []
     },
     "output_type": "execute_result"
    }
   ],
   "source": [
    "test_pd.shape"
   ]
  },
  {
   "cell_type": "code",
   "execution_count": 0,
   "metadata": {
    "colab": {
     "base_uri": "https://localhost:8080/",
     "height": 224
    },
    "colab_type": "code",
    "id": "haJuZoz4ZV7Z",
    "outputId": "c2644be1-a202-4a20-facc-ba9fa1401491"
   },
   "outputs": [
    {
     "data": {
      "text/html": [
       "<div>\n",
       "<style scoped>\n",
       "    .dataframe tbody tr th:only-of-type {\n",
       "        vertical-align: middle;\n",
       "    }\n",
       "\n",
       "    .dataframe tbody tr th {\n",
       "        vertical-align: top;\n",
       "    }\n",
       "\n",
       "    .dataframe thead th {\n",
       "        text-align: right;\n",
       "    }\n",
       "</style>\n",
       "<table border=\"1\" class=\"dataframe\">\n",
       "  <thead>\n",
       "    <tr style=\"text-align: right;\">\n",
       "      <th></th>\n",
       "      <th>test_id</th>\n",
       "      <th>firstWordSame</th>\n",
       "      <th>firstWordSame_fuzzy</th>\n",
       "      <th>lastWordSame</th>\n",
       "      <th>lastWordSame_fuzzy</th>\n",
       "      <th>embedding_similarity</th>\n",
       "      <th>embedding_similarity_tfidf</th>\n",
       "      <th>word_ratio</th>\n",
       "      <th>char_ratio</th>\n",
       "      <th>math_similarity</th>\n",
       "      <th>token_similarity</th>\n",
       "      <th>token_similarity_idf</th>\n",
       "      <th>cross_correlation</th>\n",
       "      <th>cross_correlation_idf</th>\n",
       "      <th>q1_degree</th>\n",
       "      <th>q2_degree</th>\n",
       "      <th>intersection_count</th>\n",
       "      <th>2grams</th>\n",
       "      <th>3grams</th>\n",
       "      <th>4grams</th>\n",
       "      <th>edit_score</th>\n",
       "      <th>jaro_score</th>\n",
       "      <th>rel_intersection</th>\n",
       "      <th>wl_ratio</th>\n",
       "      <th>stop_ratio</th>\n",
       "      <th>UC_ratio</th>\n",
       "      <th>why</th>\n",
       "      <th>what</th>\n",
       "      <th>when</th>\n",
       "      <th>where</th>\n",
       "      <th>how</th>\n",
       "      <th>who</th>\n",
       "      <th>embedding_similarity_max</th>\n",
       "      <th>embedding_similarity_max_tfidf</th>\n",
       "      <th>entity_score</th>\n",
       "      <th>glover</th>\n",
       "      <th>word2vec</th>\n",
       "      <th>dot_output</th>\n",
       "      <th>dot_layer</th>\n",
       "      <th>manhat_output</th>\n",
       "      <th>manhat_layer</th>\n",
       "    </tr>\n",
       "  </thead>\n",
       "  <tbody>\n",
       "    <tr>\n",
       "      <th>0</th>\n",
       "      <td>15</td>\n",
       "      <td>0</td>\n",
       "      <td>0.878981</td>\n",
       "      <td>0</td>\n",
       "      <td>0.208558</td>\n",
       "      <td>0.894801</td>\n",
       "      <td>0.826423</td>\n",
       "      <td>0.941176</td>\n",
       "      <td>0.961039</td>\n",
       "      <td>1</td>\n",
       "      <td>0.218218</td>\n",
       "      <td>0.251041</td>\n",
       "      <td>0.320830</td>\n",
       "      <td>0.291445</td>\n",
       "      <td>11.88</td>\n",
       "      <td>25.08</td>\n",
       "      <td>7.92</td>\n",
       "      <td>0.107143</td>\n",
       "      <td>0.035714</td>\n",
       "      <td>0.0</td>\n",
       "      <td>0.033818</td>\n",
       "      <td>0.739855</td>\n",
       "      <td>0.214286</td>\n",
       "      <td>0.904507</td>\n",
       "      <td>0.796875</td>\n",
       "      <td>0.5</td>\n",
       "      <td>1</td>\n",
       "      <td>0</td>\n",
       "      <td>1</td>\n",
       "      <td>1</td>\n",
       "      <td>0</td>\n",
       "      <td>1</td>\n",
       "      <td>0.520753</td>\n",
       "      <td>0.397651</td>\n",
       "      <td>0.5</td>\n",
       "      <td>0.950391</td>\n",
       "      <td>0.834462</td>\n",
       "      <td>0.869169</td>\n",
       "      <td>0.061864</td>\n",
       "      <td>0.223135</td>\n",
       "      <td>0.163114</td>\n",
       "    </tr>\n",
       "    <tr>\n",
       "      <th>1</th>\n",
       "      <td>20</td>\n",
       "      <td>1</td>\n",
       "      <td>1.000000</td>\n",
       "      <td>1</td>\n",
       "      <td>1.000000</td>\n",
       "      <td>0.871040</td>\n",
       "      <td>0.846412</td>\n",
       "      <td>0.714286</td>\n",
       "      <td>0.583333</td>\n",
       "      <td>1</td>\n",
       "      <td>0.507093</td>\n",
       "      <td>0.560377</td>\n",
       "      <td>0.365238</td>\n",
       "      <td>0.339733</td>\n",
       "      <td>1.32</td>\n",
       "      <td>3.96</td>\n",
       "      <td>0.00</td>\n",
       "      <td>0.000000</td>\n",
       "      <td>0.000000</td>\n",
       "      <td>0.0</td>\n",
       "      <td>0.040952</td>\n",
       "      <td>0.671578</td>\n",
       "      <td>0.000000</td>\n",
       "      <td>0.816667</td>\n",
       "      <td>0.933333</td>\n",
       "      <td>1.0</td>\n",
       "      <td>1</td>\n",
       "      <td>1</td>\n",
       "      <td>1</td>\n",
       "      <td>1</td>\n",
       "      <td>1</td>\n",
       "      <td>1</td>\n",
       "      <td>0.743635</td>\n",
       "      <td>0.737955</td>\n",
       "      <td>1.0</td>\n",
       "      <td>0.663217</td>\n",
       "      <td>0.720679</td>\n",
       "      <td>0.321063</td>\n",
       "      <td>3.675625</td>\n",
       "      <td>0.347272</td>\n",
       "      <td>0.278448</td>\n",
       "    </tr>\n",
       "    <tr>\n",
       "      <th>2</th>\n",
       "      <td>21</td>\n",
       "      <td>1</td>\n",
       "      <td>1.000000</td>\n",
       "      <td>0</td>\n",
       "      <td>0.455884</td>\n",
       "      <td>0.948524</td>\n",
       "      <td>0.924701</td>\n",
       "      <td>0.700000</td>\n",
       "      <td>0.789474</td>\n",
       "      <td>1</td>\n",
       "      <td>0.478091</td>\n",
       "      <td>0.496458</td>\n",
       "      <td>0.473992</td>\n",
       "      <td>0.453140</td>\n",
       "      <td>1.32</td>\n",
       "      <td>1.32</td>\n",
       "      <td>0.00</td>\n",
       "      <td>0.000000</td>\n",
       "      <td>0.000000</td>\n",
       "      <td>0.0</td>\n",
       "      <td>0.033103</td>\n",
       "      <td>0.716555</td>\n",
       "      <td>0.000000</td>\n",
       "      <td>0.886667</td>\n",
       "      <td>0.816327</td>\n",
       "      <td>0.5</td>\n",
       "      <td>1</td>\n",
       "      <td>1</td>\n",
       "      <td>1</td>\n",
       "      <td>1</td>\n",
       "      <td>1</td>\n",
       "      <td>1</td>\n",
       "      <td>0.634457</td>\n",
       "      <td>0.749039</td>\n",
       "      <td>1.0</td>\n",
       "      <td>0.073192</td>\n",
       "      <td>0.021376</td>\n",
       "      <td>0.560405</td>\n",
       "      <td>2.319438</td>\n",
       "      <td>0.280485</td>\n",
       "      <td>0.220260</td>\n",
       "    </tr>\n",
       "    <tr>\n",
       "      <th>3</th>\n",
       "      <td>23</td>\n",
       "      <td>0</td>\n",
       "      <td>0.667701</td>\n",
       "      <td>0</td>\n",
       "      <td>0.636073</td>\n",
       "      <td>0.804563</td>\n",
       "      <td>0.559170</td>\n",
       "      <td>0.636364</td>\n",
       "      <td>0.369565</td>\n",
       "      <td>1</td>\n",
       "      <td>0.000000</td>\n",
       "      <td>0.000000</td>\n",
       "      <td>0.278588</td>\n",
       "      <td>0.217884</td>\n",
       "      <td>1.32</td>\n",
       "      <td>1.32</td>\n",
       "      <td>0.00</td>\n",
       "      <td>0.000000</td>\n",
       "      <td>0.000000</td>\n",
       "      <td>0.0</td>\n",
       "      <td>0.025333</td>\n",
       "      <td>0.514411</td>\n",
       "      <td>0.000000</td>\n",
       "      <td>0.580745</td>\n",
       "      <td>0.785714</td>\n",
       "      <td>1.0</td>\n",
       "      <td>1</td>\n",
       "      <td>1</td>\n",
       "      <td>1</td>\n",
       "      <td>0</td>\n",
       "      <td>0</td>\n",
       "      <td>1</td>\n",
       "      <td>0.411248</td>\n",
       "      <td>0.259039</td>\n",
       "      <td>0.0</td>\n",
       "      <td>0.006703</td>\n",
       "      <td>0.064027</td>\n",
       "      <td>0.057266</td>\n",
       "      <td>6.482089</td>\n",
       "      <td>0.137397</td>\n",
       "      <td>0.052803</td>\n",
       "    </tr>\n",
       "    <tr>\n",
       "      <th>4</th>\n",
       "      <td>34</td>\n",
       "      <td>1</td>\n",
       "      <td>1.000000</td>\n",
       "      <td>0</td>\n",
       "      <td>0.200834</td>\n",
       "      <td>0.962578</td>\n",
       "      <td>0.874730</td>\n",
       "      <td>0.750000</td>\n",
       "      <td>0.787879</td>\n",
       "      <td>1</td>\n",
       "      <td>0.866025</td>\n",
       "      <td>0.709542</td>\n",
       "      <td>0.470982</td>\n",
       "      <td>0.441921</td>\n",
       "      <td>1.32</td>\n",
       "      <td>2.64</td>\n",
       "      <td>0.00</td>\n",
       "      <td>0.714286</td>\n",
       "      <td>0.666667</td>\n",
       "      <td>0.6</td>\n",
       "      <td>0.091111</td>\n",
       "      <td>0.926829</td>\n",
       "      <td>0.000000</td>\n",
       "      <td>0.951923</td>\n",
       "      <td>1.000000</td>\n",
       "      <td>1.0</td>\n",
       "      <td>1</td>\n",
       "      <td>1</td>\n",
       "      <td>1</td>\n",
       "      <td>1</td>\n",
       "      <td>1</td>\n",
       "      <td>1</td>\n",
       "      <td>0.803588</td>\n",
       "      <td>0.651903</td>\n",
       "      <td>0.0</td>\n",
       "      <td>0.022149</td>\n",
       "      <td>0.040081</td>\n",
       "      <td>0.692527</td>\n",
       "      <td>1.541097</td>\n",
       "      <td>0.128514</td>\n",
       "      <td>0.038381</td>\n",
       "    </tr>\n",
       "  </tbody>\n",
       "</table>\n",
       "</div>"
      ],
      "text/plain": [
       "   test_id  firstWordSame      ...       manhat_output  manhat_layer\n",
       "0       15              0      ...            0.223135      0.163114\n",
       "1       20              1      ...            0.347272      0.278448\n",
       "2       21              1      ...            0.280485      0.220260\n",
       "3       23              0      ...            0.137397      0.052803\n",
       "4       34              1      ...            0.128514      0.038381\n",
       "\n",
       "[5 rows x 41 columns]"
      ]
     },
     "execution_count": 117,
     "metadata": {
      "tags": []
     },
     "output_type": "execute_result"
    }
   ],
   "source": [
    "test_pd.head()"
   ]
  },
  {
   "cell_type": "code",
   "execution_count": 0,
   "metadata": {
    "colab": {
     "base_uri": "https://localhost:8080/",
     "height": 71
    },
    "colab_type": "code",
    "id": "k6DsQKiRYiGX",
    "outputId": "a18ea4bd-87ba-4159-e9c5-81a8115b81ff"
   },
   "outputs": [
    {
     "name": "stderr",
     "output_type": "stream",
     "text": [
      "/usr/local/lib/python3.6/dist-packages/ipykernel_launcher.py:1: FutureWarning: Method .as_matrix will be removed in a future version. Use .values instead.\n",
      "  \"\"\"Entry point for launching an IPython kernel.\n"
     ]
    }
   ],
   "source": [
    "test = test_pd.drop([\"test_id\"],axis=1).as_matrix()"
   ]
  },
  {
   "cell_type": "code",
   "execution_count": 0,
   "metadata": {
    "colab": {
     "base_uri": "https://localhost:8080/",
     "height": 100
    },
    "colab_type": "code",
    "id": "uP_pURBmKKee",
    "outputId": "051af3fe-8642-45ff-b4af-017f53b190a4"
   },
   "outputs": [
    {
     "data": {
      "text/html": [
       "<div>\n",
       "<style scoped>\n",
       "    .dataframe tbody tr th:only-of-type {\n",
       "        vertical-align: middle;\n",
       "    }\n",
       "\n",
       "    .dataframe tbody tr th {\n",
       "        vertical-align: top;\n",
       "    }\n",
       "\n",
       "    .dataframe thead th {\n",
       "        text-align: right;\n",
       "    }\n",
       "</style>\n",
       "<table border=\"1\" class=\"dataframe\">\n",
       "  <thead>\n",
       "    <tr style=\"text-align: right;\">\n",
       "      <th></th>\n",
       "      <th>test_id</th>\n",
       "      <th>firstWordSame</th>\n",
       "      <th>firstWordSame_fuzzy</th>\n",
       "      <th>lastWordSame</th>\n",
       "      <th>lastWordSame_fuzzy</th>\n",
       "      <th>embedding_similarity</th>\n",
       "      <th>embedding_similarity_tfidf</th>\n",
       "      <th>word_ratio</th>\n",
       "      <th>char_ratio</th>\n",
       "      <th>math_similarity</th>\n",
       "      <th>token_similarity</th>\n",
       "      <th>token_similarity_idf</th>\n",
       "      <th>cross_correlation</th>\n",
       "      <th>cross_correlation_idf</th>\n",
       "      <th>q1_degree</th>\n",
       "      <th>q2_degree</th>\n",
       "      <th>intersection_count</th>\n",
       "      <th>2grams</th>\n",
       "      <th>3grams</th>\n",
       "      <th>4grams</th>\n",
       "      <th>edit_score</th>\n",
       "      <th>jaro_score</th>\n",
       "      <th>rel_intersection</th>\n",
       "      <th>wl_ratio</th>\n",
       "      <th>stop_ratio</th>\n",
       "      <th>UC_ratio</th>\n",
       "      <th>why</th>\n",
       "      <th>what</th>\n",
       "      <th>when</th>\n",
       "      <th>where</th>\n",
       "      <th>how</th>\n",
       "      <th>who</th>\n",
       "      <th>embedding_similarity_max</th>\n",
       "      <th>embedding_similarity_max_tfidf</th>\n",
       "      <th>entity_score</th>\n",
       "      <th>glover</th>\n",
       "      <th>word2vec</th>\n",
       "      <th>dot_output</th>\n",
       "      <th>dot_layer</th>\n",
       "      <th>manhat_output</th>\n",
       "      <th>manhat_layer</th>\n",
       "    </tr>\n",
       "  </thead>\n",
       "  <tbody>\n",
       "    <tr>\n",
       "      <th>0</th>\n",
       "      <td>15</td>\n",
       "      <td>0</td>\n",
       "      <td>0.878981</td>\n",
       "      <td>0</td>\n",
       "      <td>0.208558</td>\n",
       "      <td>0.894801</td>\n",
       "      <td>0.826423</td>\n",
       "      <td>0.941176</td>\n",
       "      <td>0.961039</td>\n",
       "      <td>1</td>\n",
       "      <td>0.218218</td>\n",
       "      <td>0.251041</td>\n",
       "      <td>0.32083</td>\n",
       "      <td>0.291445</td>\n",
       "      <td>11.88</td>\n",
       "      <td>25.08</td>\n",
       "      <td>7.92</td>\n",
       "      <td>0.107143</td>\n",
       "      <td>0.035714</td>\n",
       "      <td>0.0</td>\n",
       "      <td>0.033818</td>\n",
       "      <td>0.739855</td>\n",
       "      <td>0.214286</td>\n",
       "      <td>0.904507</td>\n",
       "      <td>0.796875</td>\n",
       "      <td>0.5</td>\n",
       "      <td>1</td>\n",
       "      <td>0</td>\n",
       "      <td>1</td>\n",
       "      <td>1</td>\n",
       "      <td>0</td>\n",
       "      <td>1</td>\n",
       "      <td>0.520753</td>\n",
       "      <td>0.397651</td>\n",
       "      <td>0.5</td>\n",
       "      <td>0.950391</td>\n",
       "      <td>0.834462</td>\n",
       "      <td>0.869169</td>\n",
       "      <td>0.061864</td>\n",
       "      <td>0.223135</td>\n",
       "      <td>0.163114</td>\n",
       "    </tr>\n",
       "  </tbody>\n",
       "</table>\n",
       "</div>"
      ],
      "text/plain": [
       "   test_id  firstWordSame      ...       manhat_output  manhat_layer\n",
       "0       15              0      ...            0.223135      0.163114\n",
       "\n",
       "[1 rows x 41 columns]"
      ]
     },
     "execution_count": 119,
     "metadata": {
      "tags": []
     },
     "output_type": "execute_result"
    }
   ],
   "source": [
    "test_pd.head(1)"
   ]
  },
  {
   "cell_type": "code",
   "execution_count": 0,
   "metadata": {
    "colab": {},
    "colab_type": "code",
    "id": "2JFFZhQeVnLR"
   },
   "outputs": [],
   "source": [
    "dTest = xgb.DMatrix(test)\n",
    "predictions = xg1.predict(dTest, ntree_limit=xg1.best_ntree_limit)"
   ]
  },
  {
   "cell_type": "code",
   "execution_count": 0,
   "metadata": {
    "colab": {},
    "colab_type": "code",
    "id": "OrFTfG8GXrq-"
   },
   "outputs": [],
   "source": [
    "import numpy as np"
   ]
  },
  {
   "cell_type": "code",
   "execution_count": 0,
   "metadata": {
    "colab": {},
    "colab_type": "code",
    "id": "0dkALsGAUac7"
   },
   "outputs": [],
   "source": [
    "preds_pd = pd.DataFrame(predictions, columns=[\"prediction\"])\n",
    "output = pd.concat([test_pd.test_id,preds_pd[\"prediction\"]],axis=1)\n",
    "output[\"is_duplicate\"] = np.where(output.prediction >= 0.5, 1, 0)\n",
    "output = output.drop(\"prediction\",axis=1)\n",
    "output.to_csv(\"xg_predictions_everything.csv\",index=False)"
   ]
  },
  {
   "cell_type": "code",
   "execution_count": 0,
   "metadata": {
    "colab": {},
    "colab_type": "code",
    "id": "Re0vHEPpXRAP"
   },
   "outputs": [],
   "source": [
    "test_pd.to_csv(\"test_NLP_LSTM.csv\")\n",
    "result.to_csv(\"train_NLP_LSTM.csv\")"
   ]
  },
  {
   "cell_type": "markdown",
   "metadata": {
    "colab": {},
    "colab_type": "code",
    "id": "u8oklO6cDxQ2"
   },
   "source": [
    "# Feature Importance"
   ]
  },
  {
   "cell_type": "code",
   "execution_count": 4,
   "metadata": {
    "ExecuteTime": {
     "end_time": "2018-12-19T19:32:09.366588Z",
     "start_time": "2018-12-19T19:32:09.362791Z"
    }
   },
   "outputs": [],
   "source": [
    "# Display Feature Importance\n",
    "\n",
    "#from xgboost import plot_importance\n",
    "#from matplotlib import pyplot as plt\n",
    "\n",
    "#fig, ax = plt.subplots(1,1,figsize=(10,10))\n",
    "#plot_importance(xg1,height=0.4,ax=ax)"
   ]
  },
  {
   "cell_type": "markdown",
   "metadata": {
    "ExecuteTime": {
     "end_time": "2018-12-19T19:31:49.010784Z",
     "start_time": "2018-12-19T19:31:49.007031Z"
    },
    "colab": {
     "base_uri": "https://localhost:8080/",
     "height": 722
    },
    "colab_type": "code",
    "id": "2w8dOT1fRgkQ",
    "outputId": "22af9da5-c23d-4687-a235-78aac81ae0a2"
   },
   "source": [
    "**Only NLP Features Used**"
   ]
  },
  {
   "attachments": {
    "image.png": {
     "image/png": "[encoded data removed]"
    }
   },
   "cell_type": "markdown",
   "metadata": {},
   "source": [
    "![image.png](attachment:image.png)"
   ]
  },
  {
   "cell_type": "markdown",
   "metadata": {},
   "source": [
    "**NLP and NN Model Outputs Used**"
   ]
  },
  {
   "attachments": {
    "image.png": {
     "image/png": "[encoded data removed]"
    }
   },
   "cell_type": "markdown",
   "metadata": {},
   "source": [
    "![image.png](attachment:image.png)"
   ]
  }
 ],
 "metadata": {
  "accelerator": "GPU",
  "colab": {
   "collapsed_sections": [],
   "name": "Merge Everything & XGBoost.ipynb",
   "provenance": [],
   "version": "0.3.2"
  },
  "kernelspec": {
   "display_name": "Python 3",
   "language": "python",
   "name": "python3"
  },
  "language_info": {
   "codemirror_mode": {
    "name": "ipython",
    "version": 3
   },
   "file_extension": ".py",
   "mimetype": "text/x-python",
   "name": "python",
   "nbconvert_exporter": "python",
   "pygments_lexer": "ipython3",
   "version": "3.6.5"
  },
  "toc": {
   "base_numbering": 1,
   "nav_menu": {},
   "number_sections": true,
   "sideBar": true,
   "skip_h1_title": false,
   "title_cell": "Table of Contents",
   "title_sidebar": "Contents",
   "toc_cell": true,
   "toc_position": {},
   "toc_section_display": true,
   "toc_window_display": true
  }
 },
 "nbformat": 4,
 "nbformat_minor": 1
}
