{
 "cells": [
  {
   "cell_type": "markdown",
   "metadata": {
    "toc": true
   },
   "source": [
    "<h1>Table of Contents<span class=\"tocSkip\"></span></h1>\n",
    "<div class=\"toc\"><ul class=\"toc-item\"><li><span><a href=\"#Download-libraries-for-Google-Colab-and-Download-Embeddings\" data-toc-modified-id=\"Download-libraries-for-Google-Colab-and-Download-Embeddings-1\"><span class=\"toc-item-num\">1&nbsp;&nbsp;</span>Download libraries for Google Colab and Download Embeddings</a></span></li><li><span><a href=\"#Import-Data\" data-toc-modified-id=\"Import-Data-2\"><span class=\"toc-item-num\">2&nbsp;&nbsp;</span>Import Data</a></span></li><li><span><a href=\"#Load-Embedding-and-Create-Embedding-Layer\" data-toc-modified-id=\"Load-Embedding-and-Create-Embedding-Layer-3\"><span class=\"toc-item-num\">3&nbsp;&nbsp;</span>Load Embedding and Create Embedding Layer</a></span></li><li><span><a href=\"#Define-and-Train-Network\" data-toc-modified-id=\"Define-and-Train-Network-4\"><span class=\"toc-item-num\">4&nbsp;&nbsp;</span>Define and Train Network</a></span></li><li><span><a href=\"#Pass-Train-and-Test-Data-Through-Network-and-Save-for-Stacking\" data-toc-modified-id=\"Pass-Train-and-Test-Data-Through-Network-and-Save-for-Stacking-5\"><span class=\"toc-item-num\">5&nbsp;&nbsp;</span>Pass Train and Test Data Through Network and Save for Stacking</a></span></li></ul></div>"
   ]
  },
  {
   "cell_type": "markdown",
   "metadata": {
    "_uuid": "7f1fc879ae2f51de5ee911e8119a373b1ba4fbf0",
    "colab_type": "text",
    "id": "x5C57FHH8Rkn"
   },
   "source": [
    "# Download libraries for Google Colab and Download Embeddings"
   ]
  },
  {
   "cell_type": "code",
   "execution_count": 0,
   "metadata": {
    "colab": {
     "base_uri": "https://localhost:8080/",
     "height": 238
    },
    "colab_type": "code",
    "id": "cZk-JGeTFa_0",
    "outputId": "ca32dc9c-fd39-49dd-e7f9-ab560d3cfc0c"
   },
   "outputs": [
    {
     "name": "stdout",
     "output_type": "stream",
     "text": [
      "Collecting pandas==0.23.4\n",
      "\u001b[?25l  Downloading https://files.pythonhosted.org/packages/e1/d8/feeb346d41f181e83fba45224ab14a8d8af019b48af742e047f3845d8cff/pandas-0.23.4-cp36-cp36m-manylinux1_x86_64.whl (8.9MB)\n",
      "\u001b[K    100% |████████████████████████████████| 8.9MB 3.8MB/s \n",
      "\u001b[?25hRequirement already satisfied: python-dateutil>=2.5.0 in /usr/local/lib/python3.6/dist-packages (from pandas==0.23.4) (2.5.3)\n",
      "Requirement already satisfied: numpy>=1.9.0 in /usr/local/lib/python3.6/dist-packages (from pandas==0.23.4) (1.14.6)\n",
      "Requirement already satisfied: pytz>=2011k in /usr/local/lib/python3.6/dist-packages (from pandas==0.23.4) (2018.7)\n",
      "Requirement already satisfied: six>=1.5 in /usr/local/lib/python3.6/dist-packages (from python-dateutil>=2.5.0->pandas==0.23.4) (1.11.0)\n",
      "\u001b[31mcufflinks 0.14.6 has requirement plotly>=3.0.0, but you'll have plotly 1.12.12 which is incompatible.\u001b[0m\n",
      "Installing collected packages: pandas\n",
      "  Found existing installation: pandas 0.22.0\n",
      "    Uninstalling pandas-0.22.0:\n",
      "      Successfully uninstalled pandas-0.22.0\n",
      "Successfully installed pandas-0.23.4\n"
     ]
    }
   ],
   "source": [
    "! pip install pandas==0.23.4"
   ]
  },
  {
   "cell_type": "code",
   "execution_count": 0,
   "metadata": {
    "colab": {
     "base_uri": "https://localhost:8080/",
     "height": 34
    },
    "colab_type": "code",
    "id": "qDR834FhFoYI",
    "outputId": "f887224a-90fa-48c1-a5aa-702004b8ae7f"
   },
   "outputs": [
    {
     "data": {
      "text/plain": [
       "'0.22.0'"
      ]
     },
     "execution_count": 2,
     "metadata": {
      "tags": []
     },
     "output_type": "execute_result"
    }
   ],
   "source": [
    "import pandas as pd\n",
    "pd.__version__"
   ]
  },
  {
   "cell_type": "code",
   "execution_count": 0,
   "metadata": {
    "colab": {
     "base_uri": "https://localhost:8080/",
     "height": 272
    },
    "colab_type": "code",
    "id": "bSjcF-ie9vqH",
    "outputId": "202bc313-68b8-4265-e484-b9c2c5bebdba"
   },
   "outputs": [
    {
     "name": "stdout",
     "output_type": "stream",
     "text": [
      "--2018-12-12 20:04:00--  http://nlp.stanford.edu/data/glove.6B.zip\n",
      "Resolving nlp.stanford.edu (nlp.stanford.edu)... 171.64.67.140\n",
      "Connecting to nlp.stanford.edu (nlp.stanford.edu)|171.64.67.140|:80... connected.\n",
      "HTTP request sent, awaiting response... 302 Found\n",
      "Location: https://nlp.stanford.edu/data/glove.6B.zip [following]\n",
      "--2018-12-12 20:04:00--  https://nlp.stanford.edu/data/glove.6B.zip\n",
      "Connecting to nlp.stanford.edu (nlp.stanford.edu)|171.64.67.140|:443... connected.\n",
      "HTTP request sent, awaiting response... 200 OK\n",
      "Length: 862182613 (822M) [application/zip]\n",
      "Saving to: ‘glove.6B.zip’\n",
      "\n",
      "glove.6B.zip        100%[===================>] 822.24M  86.0MB/s    in 9.2s    \n",
      "\n",
      "2018-12-12 20:04:09 (89.6 MB/s) - ‘glove.6B.zip’ saved [862182613/862182613]\n",
      "\n"
     ]
    }
   ],
   "source": [
    "! wget http://nlp.stanford.edu/data/glove.6B.zip"
   ]
  },
  {
   "cell_type": "code",
   "execution_count": 0,
   "metadata": {
    "colab": {
     "base_uri": "https://localhost:8080/",
     "height": 102
    },
    "colab_type": "code",
    "id": "EKVjdxnm-5jV",
    "outputId": "9470cfd5-246a-480e-9b0f-38c2e44f33e4"
   },
   "outputs": [
    {
     "name": "stdout",
     "output_type": "stream",
     "text": [
      "Archive:  glove.6B.zip\n",
      "  inflating: glove.6B.50d.txt        \n",
      "  inflating: glove.6B.100d.txt       \n",
      "  inflating: glove.6B.200d.txt       \n",
      "  inflating: glove.6B.300d.txt       \n"
     ]
    }
   ],
   "source": [
    "! unzip glove.6B.zip"
   ]
  },
  {
   "cell_type": "markdown",
   "metadata": {
    "colab": {},
    "colab_type": "code",
    "id": "cAxe2i-G-_aI"
   },
   "source": [
    "# Import Data"
   ]
  },
  {
   "cell_type": "code",
   "execution_count": 0,
   "metadata": {
    "ExecuteTime": {
     "end_time": "2018-12-03T07:22:06.696094Z",
     "start_time": "2018-12-03T07:22:06.268835Z"
    },
    "_uuid": "cbd07f9d34f86a58595067c6f1dccb39850527cc",
    "colab": {},
    "colab_type": "code",
    "id": "u9oY0ixH8Rkq",
    "scrolled": true
   },
   "outputs": [],
   "source": [
    "import numpy as np\n",
    "import pandas as pd\n",
    "import csv"
   ]
  },
  {
   "cell_type": "code",
   "execution_count": 0,
   "metadata": {
    "colab": {
     "base_uri": "https://localhost:8080/",
     "height": 34
    },
    "colab_type": "code",
    "id": "hwyhbYREgkRe",
    "outputId": "02e676b8-beaa-4dbd-fb16-ef4cf1203358"
   },
   "outputs": [
    {
     "data": {
      "text/plain": [
       "'0.23.4'"
      ]
     },
     "execution_count": 2,
     "metadata": {
      "tags": []
     },
     "output_type": "execute_result"
    }
   ],
   "source": [
    "pd.__version__"
   ]
  },
  {
   "cell_type": "code",
   "execution_count": 0,
   "metadata": {
    "colab": {},
    "colab_type": "code",
    "id": "v5FdaALfgvYk"
   },
   "outputs": [],
   "source": [
    "df_train = pd.read_csv(\"train_data.csv\",doublequote=True,quotechar='\"',sep=\",\").drop(\"is_duplicate\",axis=1)"
   ]
  },
  {
   "cell_type": "code",
   "execution_count": 0,
   "metadata": {
    "ExecuteTime": {
     "end_time": "2018-12-03T07:22:07.748093Z",
     "start_time": "2018-12-03T07:22:07.630284Z"
    },
    "_uuid": "22768bf18f84f81d6de2cccc0853ee03c4985772",
    "colab": {
     "base_uri": "https://localhost:8080/",
     "height": 204
    },
    "colab_type": "code",
    "id": "CEtdLpDn8RlE",
    "outputId": "73f3382a-61c2-4b78-dcda-a11efac5a004"
   },
   "outputs": [
    {
     "data": {
      "text/html": [
       "<div>\n",
       "<style scoped>\n",
       "    .dataframe tbody tr th:only-of-type {\n",
       "        vertical-align: middle;\n",
       "    }\n",
       "\n",
       "    .dataframe tbody tr th {\n",
       "        vertical-align: top;\n",
       "    }\n",
       "\n",
       "    .dataframe thead th {\n",
       "        text-align: right;\n",
       "    }\n",
       "</style>\n",
       "<table border=\"1\" class=\"dataframe\">\n",
       "  <thead>\n",
       "    <tr style=\"text-align: right;\">\n",
       "      <th></th>\n",
       "      <th>id</th>\n",
       "      <th>is_duplicate</th>\n",
       "    </tr>\n",
       "  </thead>\n",
       "  <tbody>\n",
       "    <tr>\n",
       "      <th>0</th>\n",
       "      <td>0</td>\n",
       "      <td>0</td>\n",
       "    </tr>\n",
       "    <tr>\n",
       "      <th>1</th>\n",
       "      <td>1</td>\n",
       "      <td>0</td>\n",
       "    </tr>\n",
       "    <tr>\n",
       "      <th>2</th>\n",
       "      <td>2</td>\n",
       "      <td>0</td>\n",
       "    </tr>\n",
       "    <tr>\n",
       "      <th>3</th>\n",
       "      <td>3</td>\n",
       "      <td>0</td>\n",
       "    </tr>\n",
       "    <tr>\n",
       "      <th>4</th>\n",
       "      <td>4</td>\n",
       "      <td>0</td>\n",
       "    </tr>\n",
       "  </tbody>\n",
       "</table>\n",
       "</div>"
      ],
      "text/plain": [
       "   id  is_duplicate\n",
       "0   0             0\n",
       "1   1             0\n",
       "2   2             0\n",
       "3   3             0\n",
       "4   4             0"
      ]
     },
     "execution_count": 4,
     "metadata": {
      "tags": []
     },
     "output_type": "execute_result"
    }
   ],
   "source": [
    "df_t_labels= pd.read_csv('train_labels.csv', encoding='utf-8')\n",
    "df_t_labels.head()"
   ]
  },
  {
   "cell_type": "code",
   "execution_count": 0,
   "metadata": {
    "ExecuteTime": {
     "end_time": "2018-12-03T07:22:08.109493Z",
     "start_time": "2018-12-03T07:22:07.751733Z"
    },
    "_uuid": "082e1aa70a2c860a81ffa5d0820407aff9a285f4",
    "colab": {},
    "colab_type": "code",
    "id": "wFoa62bD8RlI"
   },
   "outputs": [],
   "source": [
    "df_train = df_train.merge(df_t_labels,on=[\"id\"],how=\"inner\")\n",
    "df_train.head()\n",
    "df_train['id'] = df_train['id'].apply(str)\n",
    "df_train['is_duplicate'] = df_train['is_duplicate'].apply(int)"
   ]
  },
  {
   "cell_type": "code",
   "execution_count": 0,
   "metadata": {
    "ExecuteTime": {
     "end_time": "2018-12-03T07:22:08.281182Z",
     "start_time": "2018-12-03T07:22:08.140777Z"
    },
    "_uuid": "5b646581d786a7e45d5e7f0cedcfd9fafeac3552",
    "colab": {},
    "colab_type": "code",
    "id": "BPoyvIb_8RlR"
   },
   "outputs": [],
   "source": [
    "df_train['question1'].fillna('', inplace=True)\n",
    "df_train['question2'].fillna('', inplace=True)"
   ]
  },
  {
   "cell_type": "code",
   "execution_count": 0,
   "metadata": {
    "colab": {
     "base_uri": "https://localhost:8080/",
     "height": 34
    },
    "colab_type": "code",
    "id": "dNIJKeiAF5hf",
    "outputId": "c3e187cd-c213-4787-d517-f1ab944101da"
   },
   "outputs": [
    {
     "data": {
      "text/plain": [
       "'0.23.4'"
      ]
     },
     "execution_count": 7,
     "metadata": {
      "tags": []
     },
     "output_type": "execute_result"
    }
   ],
   "source": [
    "pd.__version__"
   ]
  },
  {
   "cell_type": "code",
   "execution_count": 0,
   "metadata": {
    "ExecuteTime": {
     "end_time": "2018-12-03T07:22:08.522485Z",
     "start_time": "2018-12-03T07:22:08.283282Z"
    },
    "_uuid": "82c5dfe1ed458b7bbf336b3be0485c5faf588dd5",
    "colab": {},
    "colab_type": "code",
    "id": "GBj-sEeG8RlU"
   },
   "outputs": [],
   "source": [
    "df_test = pd.read_csv('test_data.csv',doublequote=True)\n",
    "df_test['test_id'] = df_test['test_id'].apply(str)"
   ]
  },
  {
   "cell_type": "code",
   "execution_count": 0,
   "metadata": {
    "ExecuteTime": {
     "end_time": "2018-12-03T07:22:08.911150Z",
     "start_time": "2018-12-03T07:22:08.524588Z"
    },
    "_uuid": "e6e75ae38bcae9d418a3616bf712d1c457afad43",
    "colab": {
     "base_uri": "https://localhost:8080/",
     "height": 153
    },
    "colab_type": "code",
    "id": "nOpryMQc8RlX",
    "outputId": "df619a8e-3049-42de-adea-bb200aa1819e"
   },
   "outputs": [
    {
     "name": "stderr",
     "output_type": "stream",
     "text": [
      "/usr/local/lib/python3.6/dist-packages/ipykernel_launcher.py:1: FutureWarning: Sorting because non-concatenation axis is not aligned. A future version\n",
      "of pandas will change to not sort by default.\n",
      "\n",
      "To accept the future behavior, pass 'sort=False'.\n",
      "\n",
      "To retain the current behavior and silence the warning, pass 'sort=True'.\n",
      "\n",
      "  \"\"\"Entry point for launching an IPython kernel.\n"
     ]
    }
   ],
   "source": [
    "df_all = pd.concat((df_train, df_test))\n",
    "df_all['question1'].fillna('', inplace=True)\n",
    "df_all['question2'].fillna('', inplace=True)"
   ]
  },
  {
   "cell_type": "code",
   "execution_count": 0,
   "metadata": {
    "ExecuteTime": {
     "end_time": "2018-12-03T07:22:09.298149Z",
     "start_time": "2018-12-03T07:22:08.930018Z"
    },
    "_uuid": "3c844458d3b15d6e9692cabc783d568a793b0000",
    "colab": {},
    "colab_type": "code",
    "id": "Gto3hCeC8Rlh"
   },
   "outputs": [],
   "source": [
    "from sklearn.feature_extraction.text import CountVectorizer\n",
    "import itertools"
   ]
  },
  {
   "cell_type": "code",
   "execution_count": 0,
   "metadata": {
    "ExecuteTime": {
     "end_time": "2018-12-03T07:22:21.640288Z",
     "start_time": "2018-12-03T07:22:09.300685Z"
    },
    "_uuid": "1441257c592632854f5bb2eefefe62e2ffeeb8b4",
    "colab": {},
    "colab_type": "code",
    "id": "YPYeAHEw8Rlk"
   },
   "outputs": [],
   "source": [
    "counts_vectorizer = CountVectorizer(max_features=10000-1).fit(\n",
    "    itertools.chain(df_all['question1'], df_all['question2']))\n",
    "\n",
    "other_index = len(counts_vectorizer.vocabulary_)"
   ]
  },
  {
   "cell_type": "code",
   "execution_count": 0,
   "metadata": {
    "ExecuteTime": {
     "end_time": "2018-12-03T07:22:23.303725Z",
     "start_time": "2018-12-03T07:22:21.641852Z"
    },
    "_uuid": "eef9b41700c8545288afb21acc249a61ba36deac",
    "colab": {
     "base_uri": "https://localhost:8080/",
     "height": 51
    },
    "colab_type": "code",
    "id": "LHHo2dRN8Rlo",
    "outputId": "1baed989-4217-4d59-b991-ba79c888c79c"
   },
   "outputs": [
    {
     "name": "stderr",
     "output_type": "stream",
     "text": [
      "Using TensorFlow backend.\n"
     ]
    },
    {
     "data": {
      "text/plain": [
       "'2.2.4'"
      ]
     },
     "execution_count": 12,
     "metadata": {
      "tags": []
     },
     "output_type": "execute_result"
    }
   ],
   "source": [
    "import re\n",
    "from keras.preprocessing.sequence import pad_sequences\n",
    "from sklearn.model_selection import train_test_split\n",
    "import keras \n",
    "keras.__version__"
   ]
  },
  {
   "cell_type": "code",
   "execution_count": 0,
   "metadata": {
    "ExecuteTime": {
     "end_time": "2018-12-03T07:22:23.309534Z",
     "start_time": "2018-12-03T07:22:23.305897Z"
    },
    "_uuid": "1b0456d3899305fa68a305c44ac143b38a324d1c",
    "colab": {},
    "colab_type": "code",
    "id": "B8-xp-i_8Rlr"
   },
   "outputs": [],
   "source": [
    "words_tokenizer = re.compile(counts_vectorizer.token_pattern)"
   ]
  },
  {
   "cell_type": "code",
   "execution_count": 0,
   "metadata": {
    "ExecuteTime": {
     "end_time": "2018-12-03T07:22:23.322370Z",
     "start_time": "2018-12-03T07:22:23.312029Z"
    },
    "_uuid": "eba36585ada62745fd9494559ec265e45344a8e3",
    "colab": {},
    "colab_type": "code",
    "id": "htDh1abY8Rlx"
   },
   "outputs": [],
   "source": [
    "# clean an concise vectorised method found on kaggle\n",
    "def create_padded_seqs(texts, max_len=30):\n",
    "    seqs = texts.apply(lambda s: \n",
    "        [counts_vectorizer.vocabulary_[w] if w in counts_vectorizer.vocabulary_ else other_index\n",
    "         for w in words_tokenizer.findall(s.lower())])\n",
    "    return pad_sequences(seqs, maxlen=max_len)"
   ]
  },
  {
   "cell_type": "code",
   "execution_count": 0,
   "metadata": {
    "ExecuteTime": {
     "end_time": "2018-12-03T07:22:35.799021Z",
     "start_time": "2018-12-03T07:22:23.324561Z"
    },
    "_uuid": "b130f6a4dadcf25e245e63a2e99cb06b5356d74d",
    "colab": {
     "base_uri": "https://localhost:8080/",
     "height": 51
    },
    "colab_type": "code",
    "id": "gZOZtXRl8Rl6",
    "outputId": "e527ad01-18a9-4937-d388-5345aac6ec14"
   },
   "outputs": [
    {
     "name": "stderr",
     "output_type": "stream",
     "text": [
      "/usr/local/lib/python3.6/dist-packages/ipykernel_launcher.py:5: FutureWarning: Method .as_matrix will be removed in a future version. Use .values instead.\n",
      "  \"\"\"\n"
     ]
    }
   ],
   "source": [
    "X1_train, X1_val, X2_train, X2_val, y_train, y_val, train_id, train_val_id = \\\n",
    "    train_test_split(create_padded_seqs(df_train['question1']),\n",
    "                     create_padded_seqs(df_train['question2']),\n",
    "                     df_train['is_duplicate'].values,\n",
    "                     df_train.id,\n",
    "                     stratify=df_train['is_duplicate'].values,\n",
    "                     test_size=0.3, random_state=2018)"
   ]
  },
  {
   "cell_type": "code",
   "execution_count": 0,
   "metadata": {
    "colab": {},
    "colab_type": "code",
    "id": "oZL2vq_gXawE"
   },
   "outputs": [],
   "source": []
  },
  {
   "cell_type": "code",
   "execution_count": 0,
   "metadata": {
    "colab": {},
    "colab_type": "code",
    "id": "g4a0X0CZMBYX"
   },
   "outputs": [],
   "source": [
    "train_id_pd = pd.DataFrame(train_id.values)\n",
    "train_val_id_pd = pd.DataFrame(train_val_id.values)"
   ]
  },
  {
   "cell_type": "code",
   "execution_count": 0,
   "metadata": {
    "colab": {},
    "colab_type": "code",
    "id": "O9Nuk3zDN1oF"
   },
   "outputs": [],
   "source": [
    "train_id_pd.to_csv(\"train_id_merge_dot.csv\",index=False)\n",
    "train_val_id_pd.to_csv(\"train_val_id_merge_dot.csv\", index=False)"
   ]
  },
  {
   "cell_type": "markdown",
   "metadata": {
    "_uuid": "baa0cdb1a6f3d43d9c10d8994ac323ca8675304d",
    "colab_type": "text",
    "id": "3gGVTptx8Rl_"
   },
   "source": [
    "# Load Embedding and Create Embedding Layer"
   ]
  },
  {
   "cell_type": "code",
   "execution_count": 0,
   "metadata": {
    "ExecuteTime": {
     "end_time": "2018-12-03T07:23:12.888232Z",
     "start_time": "2018-12-03T07:22:35.800623Z"
    },
    "_uuid": "d776d24783e3b723eb6c49a660ccba00891c0c2b",
    "colab": {},
    "colab_type": "code",
    "id": "DqmZ_sWh8RmA"
   },
   "outputs": [],
   "source": [
    "import os\n",
    "import numpy as np\n",
    "\n",
    "GLOVE_DIR = \"\"\n",
    "\n",
    "embeddings_index = {}\n",
    "line_num = 0\n",
    "\n",
    "f = open(os.path.join(GLOVE_DIR, 'glove.6B.300d.txt'))\n",
    "ff = list(f)\n",
    "f.close()\n",
    "\n",
    "for line in ff:\n",
    "    values = line.split()\n",
    "    word = values[0]\n",
    "    coefs = np.asarray(values[1:], dtype='float32')\n",
    "    embeddings_index[word] = coefs\n",
    "    line_num += 1\n",
    "    if line_num == 400000:\n",
    "        break;"
   ]
  },
  {
   "cell_type": "code",
   "execution_count": 0,
   "metadata": {
    "ExecuteTime": {
     "end_time": "2018-12-03T07:23:12.939567Z",
     "start_time": "2018-12-03T07:23:12.890096Z"
    },
    "_uuid": "6bd2dc8d80c5d1625b52e25bb7e3d9159e2d02fa",
    "colab": {},
    "colab_type": "code",
    "id": "17E4B_WC8RmI"
   },
   "outputs": [],
   "source": [
    "EMBEDDING_DIM = 300\n",
    "\n",
    "word_index = counts_vectorizer.vocabulary_\n",
    "\n",
    "embedding_matrix = np.zeros((len(word_index) + 1, EMBEDDING_DIM))\n",
    "\n",
    "for word, i in word_index.items():\n",
    "    embedding_vector = embeddings_index.get(word)\n",
    "    if embedding_vector is not None:\n",
    "        # words not found in embedding index will be all-zeros.\n",
    "        embedding_matrix[i] = embedding_vector"
   ]
  },
  {
   "cell_type": "code",
   "execution_count": 0,
   "metadata": {
    "ExecuteTime": {
     "end_time": "2018-12-03T07:23:12.968662Z",
     "start_time": "2018-12-03T07:23:12.946336Z"
    },
    "_uuid": "dd550fd808132fc4454ce689155dfe6ca6b27b6c",
    "colab": {},
    "colab_type": "code",
    "id": "D6bJONe18RmM"
   },
   "outputs": [],
   "source": [
    "from keras.layers import Embedding\n",
    "\n",
    "MAX_SEQUENCE_LENGTH = X1_train.shape[1]\n",
    "\n",
    "embedding_layer = Embedding(len(word_index) + 1,\n",
    "                            EMBEDDING_DIM,\n",
    "                            weights=[embedding_matrix],\n",
    "                            input_length=MAX_SEQUENCE_LENGTH,\n",
    "                            trainable=False)"
   ]
  },
  {
   "cell_type": "markdown",
   "metadata": {
    "_uuid": "a0744cffaf5770637c89c8f3649b48e625470ef0",
    "colab_type": "text",
    "id": "yRbk0yJQ8RmQ"
   },
   "source": [
    "# Define and Train Network"
   ]
  },
  {
   "cell_type": "code",
   "execution_count": 0,
   "metadata": {
    "_uuid": "996a9458e8adaf6f9da175d2ad46d0a856a60172",
    "colab": {
     "base_uri": "https://localhost:8080/",
     "height": 34
    },
    "colab_type": "code",
    "id": "tQwhw1T08RmR",
    "outputId": "6cf51825-6711-407a-847a-59d031945373"
   },
   "outputs": [
    {
     "data": {
      "text/plain": [
       "['/job:localhost/replica:0/task:0/device:GPU:0']"
      ]
     },
     "execution_count": 23,
     "metadata": {
      "tags": []
     },
     "output_type": "execute_result"
    }
   ],
   "source": [
    "from keras import backend as K\n",
    "K.tensorflow_backend._get_available_gpus()"
   ]
  },
  {
   "cell_type": "code",
   "execution_count": 0,
   "metadata": {
    "ExecuteTime": {
     "end_time": "2018-12-03T07:23:12.973807Z",
     "start_time": "2018-12-03T07:23:12.971013Z"
    },
    "_uuid": "3e30e0fa371ddafe97293abbd88d617d8fc39b1b",
    "colab": {},
    "colab_type": "code",
    "id": "-koH4sSU8RmV"
   },
   "outputs": [],
   "source": [
    "from keras.layers import *\n",
    "from keras.models import Model"
   ]
  },
  {
   "cell_type": "code",
   "execution_count": 0,
   "metadata": {
    "colab": {
     "base_uri": "https://localhost:8080/",
     "height": 391
    },
    "colab_type": "code",
    "id": "wmFFxAo2vWNx",
    "outputId": "1f2213b7-12cb-4042-cb75-2fcb137ca4fb"
   },
   "outputs": [
    {
     "name": "stdout",
     "output_type": "stream",
     "text": [
      "__________________________________________________________________________________________________\n",
      "Layer (type)                    Output Shape         Param #     Connected to                     \n",
      "==================================================================================================\n",
      "input_15 (InputLayer)           (None, 30)           0                                            \n",
      "__________________________________________________________________________________________________\n",
      "input_16 (InputLayer)           (None, 30)           0                                            \n",
      "__________________________________________________________________________________________________\n",
      "embedding_1 (Embedding)         (None, 30, 300)      3000000     input_15[0][0]                   \n",
      "                                                                 input_16[0][0]                   \n",
      "__________________________________________________________________________________________________\n",
      "lstm_8 (LSTM)                   (None, 256)          570368      embedding_1[14][0]               \n",
      "                                                                 embedding_1[15][0]               \n",
      "__________________________________________________________________________________________________\n",
      "dot_4 (Dot)                     (None, 1)            0           lstm_8[0][0]                     \n",
      "                                                                 lstm_8[1][0]                     \n",
      "__________________________________________________________________________________________________\n",
      "dense_4 (Dense)                 (None, 1)            2           dot_4[0][0]                      \n",
      "==================================================================================================\n",
      "Total params: 3,570,370\n",
      "Trainable params: 570,370\n",
      "Non-trainable params: 3,000,000\n",
      "__________________________________________________________________________________________________\n"
     ]
    }
   ],
   "source": [
    "words_embedding_layer = embedding_layer\n",
    "seq_embedding_layer = LSTM(256, activation='tanh')\n",
    "\n",
    "input1_tensor = Input(X1_train.shape[1:])\n",
    "input2_tensor = Input(X2_train.shape[1:])\n",
    "\n",
    "words_embedding_layer1 = words_embedding_layer(input1_tensor)\n",
    "words_embedding_layer2 = words_embedding_layer(input2_tensor)\n",
    "\n",
    "seq_embedding_layer1 = seq_embedding_layer(words_embedding_layer1) \n",
    "seq_embedding_layer2 = seq_embedding_layer(words_embedding_layer2)\n",
    "\n",
    "dot_merge = Dot(axes=1)([seq_embedding_layer1, seq_embedding_layer2])\n",
    "\n",
    "ouput_layer = Dense(1, activation='sigmoid')(dot_merge)\n",
    "\n",
    "model = Model([input1_tensor, input2_tensor], ouput_layer)\n",
    "\n",
    "model.compile(loss='binary_crossentropy', optimizer='adam', metrics=[\"accuracy\"])\n",
    "model.summary()"
   ]
  },
  {
   "cell_type": "code",
   "execution_count": 0,
   "metadata": {
    "colab": {},
    "colab_type": "code",
    "id": "QhoUwlrQ4ldv"
   },
   "outputs": [],
   "source": [
    "# with 300d\n",
    "#Epoch 00003: val_loss improved from 0.42090 to 0.39988, saving model to weights.best.Siamese.gloverLSTM256\n",
    "#Epoch 4/5\n",
    "#226214/226214 [==============================] - 329s 1ms/step - loss: 0.3274 - acc: 0.8537 - val_loss: 0.3956 - val_acc: 0.8191"
   ]
  },
  {
   "cell_type": "code",
   "execution_count": 0,
   "metadata": {
    "colab": {},
    "colab_type": "code",
    "id": "djIWys0wRtvI"
   },
   "outputs": [],
   "source": [
    "! mkdir gloverLSTM256.merge.dot"
   ]
  },
  {
   "cell_type": "code",
   "execution_count": 0,
   "metadata": {
    "_uuid": "bbc5078a16a2fabc4601d25e90c205af8edacb5e",
    "colab": {},
    "colab_type": "code",
    "id": "EzlbYMKw8Rmn"
   },
   "outputs": [],
   "source": [
    "from keras.callbacks import ModelCheckpoint  \n",
    "\n",
    "\n",
    "directory = \"gloverLSTM256.merge.dot/dropout.{epoch:02d}-{loss:.2f}-{val_loss:.2f}.hdf5\"\n",
    "\n",
    "checkpointer = ModelCheckpoint(filepath=directory, \n",
    "                               verbose=1, save_best_only=False,monitor=\"val_loss\")\n"
   ]
  },
  {
   "cell_type": "code",
   "execution_count": 0,
   "metadata": {
    "colab": {
     "base_uri": "https://localhost:8080/",
     "height": 595
    },
    "colab_type": "code",
    "id": "gpfRoPtR3cWm",
    "outputId": "2cb5485d-f743-4c31-9c7c-3bd028ab7006"
   },
   "outputs": [
    {
     "name": "stdout",
     "output_type": "stream",
     "text": [
      "Train on 226214 samples, validate on 96950 samples\n",
      "Epoch 1/8\n",
      "226214/226214 [==============================] - 886s 4ms/step - loss: 0.5888 - acc: 0.6940 - val_loss: 0.5715 - val_acc: 0.7081\n",
      "\n",
      "Epoch 00001: saving model to gloverLSTM256.merge.dot/dropout.01-0.59-0.57.hdf5\n",
      "Epoch 2/8\n",
      "226214/226214 [==============================] - 889s 4ms/step - loss: 0.5383 - acc: 0.7387 - val_loss: 0.5311 - val_acc: 0.7434\n",
      "\n",
      "Epoch 00002: saving model to gloverLSTM256.merge.dot/dropout.02-0.54-0.53.hdf5\n",
      "Epoch 3/8\n",
      "226214/226214 [==============================] - 893s 4ms/step - loss: 0.5137 - acc: 0.7531 - val_loss: 0.5208 - val_acc: 0.7495\n",
      "\n",
      "Epoch 00003: saving model to gloverLSTM256.merge.dot/dropout.03-0.51-0.52.hdf5\n",
      "Epoch 4/8\n",
      "226214/226214 [==============================] - 682s 3ms/step - loss: 0.4921 - acc: 0.7667 - val_loss: 0.5151 - val_acc: 0.7538\n",
      "\n",
      "Epoch 00004: saving model to gloverLSTM256.merge.dot/dropout.04-0.49-0.52.hdf5\n",
      "Epoch 5/8\n",
      "226214/226214 [==============================] - 601s 3ms/step - loss: 0.4700 - acc: 0.7797 - val_loss: 0.5108 - val_acc: 0.7583\n",
      "\n",
      "Epoch 00005: saving model to gloverLSTM256.merge.dot/dropout.05-0.47-0.51.hdf5\n",
      "Epoch 6/8\n",
      "226214/226214 [==============================] - 669s 3ms/step - loss: 0.4464 - acc: 0.7930 - val_loss: 0.5099 - val_acc: 0.7616\n",
      "\n",
      "Epoch 00006: saving model to gloverLSTM256.merge.dot/dropout.06-0.45-0.51.hdf5\n",
      "Epoch 7/8\n",
      "226214/226214 [==============================] - 896s 4ms/step - loss: 0.4194 - acc: 0.8075 - val_loss: 0.5275 - val_acc: 0.7586\n",
      "\n",
      "Epoch 00007: saving model to gloverLSTM256.merge.dot/dropout.07-0.42-0.53.hdf5\n",
      "Epoch 8/8\n",
      "226214/226214 [==============================] - 861s 4ms/step - loss: 0.3911 - acc: 0.8228 - val_loss: 0.5384 - val_acc: 0.7610\n",
      "\n",
      "Epoch 00008: saving model to gloverLSTM256.merge.dot/dropout.08-0.39-0.54.hdf5\n"
     ]
    },
    {
     "data": {
      "text/plain": [
       "<keras.callbacks.History at 0x7fb9803a90b8>"
      ]
     },
     "execution_count": 39,
     "metadata": {
      "tags": []
     },
     "output_type": "execute_result"
    }
   ],
   "source": [
    "model.fit([X1_train, X2_train], \n",
    "          y_train, \n",
    "            batch_size=128, \n",
    "            epochs=8,\n",
    "            callbacks=[checkpointer],\n",
    "            validation_data=([X1_val, X2_val], y_val))"
   ]
  },
  {
   "cell_type": "code",
   "execution_count": 0,
   "metadata": {
    "colab": {},
    "colab_type": "code",
    "id": "EBeMwQ2G3cS9"
   },
   "outputs": [],
   "source": [
    "#gloverd100\n",
    "#dropout\n",
    "#multi-merge\n",
    "\n",
    "#Train on 226214 samples, validate on 96950 samples\n",
    "#Epoch 1/5\n",
    "#226214/226214 [==============================] - 944s 4ms/step - loss: 0.4946 - acc: 0.7509 - val_loss: 0.4351 - val_acc: 0.7880\n",
    "#\n",
    "#Epoch 00001: val_loss improved from inf to 0.43513, saving model to weights.best.Siamese.gloverLSTM256.multiple.merge.dropout\n",
    "#Epoch 2/5\n",
    "#226214/226214 [==============================] - 818s 4ms/step - loss: 0.4106 - acc: 0.8037 - val_loss: 0.4029 - val_acc: 0.8086\n",
    "#\n",
    "#Epoch 00002: val_loss improved from 0.43513 to 0.40287, saving model to weights.best.Siamese.gloverLSTM256.multiple.merge.dropout\n",
    "#Epoch 3/5\n",
    "#226214/226214 [==============================] - 886s 4ms/step - loss: 0.3725 - acc: 0.8258 - val_loss: 0.3892 - val_acc: 0.8173\n",
    "#\n",
    "#Epoch 00003: val_loss improved from 0.40287 to 0.38922, saving model to weights.best.Siamese.gloverLSTM256.multiple.merge.dropout\n",
    "#Epoch 4/5\n",
    "#226214/226214 [==============================] - 813s 4ms/step - loss: 0.3392 - acc: 0.8447 - val_loss: 0.3821 - val_acc: 0.8215\n",
    "#\n",
    "#Epoch 00004: val_loss improved from 0.38922 to 0.38209, saving model to weights.best.Siamese.gloverLSTM256.multiple.merge.dropout\n",
    "#Epoch 5/5\n",
    "#226214/226214 [==============================] - 941s 4ms/step - loss: 0.3074 - acc: 0.8613 - val_loss: 0.3796 - val_acc: 0.8283\n",
    "#\n",
    "#Epoch 00005: val_loss improved from 0.38209 to 0.37959, saving model to weights.best.Siamese.gloverLSTM256.multiple.merge.dropout\n",
    "#<keras.callbacks.History at 0x7fa0450c7550>\n",
    "\n",
    "#Train on 226214 samples, validate on 96950 samples\n",
    "#Epoch 1/3\n",
    "#226214/226214 [==============================] - 617s 3ms/step - loss: 0.2778 - acc: 0.8767 - val_loss: 0.3832 - val_acc: 0.8305\n",
    "#\n",
    "#Epoch 00001: val_loss did not improve from 0.37959\n",
    "#Epoch 2/3\n",
    "#226214/226214 [==============================] - 475s 2ms/step - loss: 0.2490 - acc: 0.8909 - val_loss: 0.3884 - val_acc: 0.8309\n",
    "#\n",
    "#Epoch 00002: val_loss did not improve from 0.37959\n",
    "#Epoch 3/3\n",
    "#226214/226214 [==============================] - 337s 1ms/step - loss: 0.2223 - acc: 0.9041 - val_loss: 0.4159 - val_acc: 0.8352\n",
    "#\n",
    "#Epoch 00003: val_loss did not improve from 0.37959\n",
    "#<keras.callbacks.History at 0x7fa044fdaac8>"
   ]
  },
  {
   "cell_type": "code",
   "execution_count": 0,
   "metadata": {
    "colab": {},
    "colab_type": "code",
    "id": "6IBEWMmF3cMu"
   },
   "outputs": [],
   "source": [
    "# Load Best Epoch\n",
    "model.load_weights(\"gloverLSTM256.merge.dot/dropout.04-0.49-0.52.hdf5\")"
   ]
  },
  {
   "cell_type": "markdown",
   "metadata": {
    "colab_type": "text",
    "id": "J_JyLaqxTJ62"
   },
   "source": [
    "# Pass Train and Test Data Through Network and Save for Stacking"
   ]
  },
  {
   "cell_type": "code",
   "execution_count": 0,
   "metadata": {
    "colab": {},
    "colab_type": "code",
    "id": "F4rjd3K9T2s3"
   },
   "outputs": [],
   "source": [
    "embeddingsfeatures_model_dot = Model([input1_tensor, input2_tensor], dot_merge)\n",
    "features_model_dot.compile(loss='mse', optimizer='adam')"
   ]
  },
  {
   "cell_type": "code",
   "execution_count": 0,
   "metadata": {
    "colab": {},
    "colab_type": "code",
    "id": "Zj1cDtIQixvu"
   },
   "outputs": [],
   "source": [
    "train_preds = [create_padded_seqs(df_train['question1']),create_padded_seqs(df_train['question2'])]\n",
    "test_preds = [create_padded_seqs(df_test['question1']),create_padded_seqs(df_test['question2'])]"
   ]
  },
  {
   "cell_type": "code",
   "execution_count": 0,
   "metadata": {
    "colab": {},
    "colab_type": "code",
    "id": "qjizSpq6T2V_"
   },
   "outputs": [],
   "source": [
    "F_train_dot = features_model_dot.predict(train_preds, batch_size=128)\n",
    "F_test_dot = features_model_dot.predict(test_preds, batch_size=128)"
   ]
  },
  {
   "cell_type": "code",
   "execution_count": 0,
   "metadata": {
    "colab": {},
    "colab_type": "code",
    "id": "hbMiNLdYjVZ_"
   },
   "outputs": [],
   "source": [
    "F_train_1 = model.predict(train_preds, batch_size=128)\n",
    "F_test_1 = model.predict(test_preds, batch_size=128)"
   ]
  },
  {
   "cell_type": "code",
   "execution_count": 0,
   "metadata": {
    "colab": {},
    "colab_type": "code",
    "id": "ieHj5UAb1zJz"
   },
   "outputs": [],
   "source": [
    "test_1 = pd.concat([df_test.test_id,pd.DataFrame(F_test_1)],axis=1)\n",
    "test_dot = pd.concat([df_test.test_id,pd.DataFrame(F_test_dot)],axis=1)"
   ]
  },
  {
   "cell_type": "code",
   "execution_count": 0,
   "metadata": {
    "colab": {
     "base_uri": "https://localhost:8080/",
     "height": 114
    },
    "colab_type": "code",
    "id": "Yq_UWyDh2aoA",
    "outputId": "f767c6ed-bc02-49ea-b326-68b3eec690c0"
   },
   "outputs": [
    {
     "name": "stdout",
     "output_type": "stream",
     "text": [
      "(81126, 2)\n",
      "(81126, 3)\n"
     ]
    },
    {
     "data": {
      "text/html": [
       "<div>\n",
       "<style scoped>\n",
       "    .dataframe tbody tr th:only-of-type {\n",
       "        vertical-align: middle;\n",
       "    }\n",
       "\n",
       "    .dataframe tbody tr th {\n",
       "        vertical-align: top;\n",
       "    }\n",
       "\n",
       "    .dataframe thead th {\n",
       "        text-align: right;\n",
       "    }\n",
       "</style>\n",
       "<table border=\"1\" class=\"dataframe\">\n",
       "  <thead>\n",
       "    <tr style=\"text-align: right;\">\n",
       "      <th></th>\n",
       "      <th>test_id</th>\n",
       "      <th>0</th>\n",
       "    </tr>\n",
       "  </thead>\n",
       "  <tbody>\n",
       "    <tr>\n",
       "      <th>0</th>\n",
       "      <td>15</td>\n",
       "      <td>0.061864</td>\n",
       "    </tr>\n",
       "  </tbody>\n",
       "</table>\n",
       "</div>"
      ],
      "text/plain": [
       "  test_id         0\n",
       "0      15  0.061864"
      ]
     },
     "execution_count": 46,
     "metadata": {
      "tags": []
     },
     "output_type": "execute_result"
    }
   ],
   "source": [
    "print(test_1.shape)\n",
    "print(df_test.shape)\n",
    "test_dot.head(1)"
   ]
  },
  {
   "cell_type": "code",
   "execution_count": 0,
   "metadata": {
    "colab": {},
    "colab_type": "code",
    "id": "-IPCS8f42HOH"
   },
   "outputs": [],
   "source": [
    "train_1 = pd.concat([df_train.id,pd.DataFrame(F_train_1)],axis=1)\n",
    "train_dot = pd.concat([df_train.id,pd.DataFrame(F_train_dot)],axis=1)"
   ]
  },
  {
   "cell_type": "code",
   "execution_count": 0,
   "metadata": {
    "colab": {
     "base_uri": "https://localhost:8080/",
     "height": 114
    },
    "colab_type": "code",
    "id": "QHwBQUvl2zgu",
    "outputId": "a4b366c9-44ec-4df3-a706-d2d19a4b71c4"
   },
   "outputs": [
    {
     "name": "stdout",
     "output_type": "stream",
     "text": [
      "(323164, 2)\n",
      "(323164, 4)\n"
     ]
    },
    {
     "data": {
      "text/html": [
       "<div>\n",
       "<style scoped>\n",
       "    .dataframe tbody tr th:only-of-type {\n",
       "        vertical-align: middle;\n",
       "    }\n",
       "\n",
       "    .dataframe tbody tr th {\n",
       "        vertical-align: top;\n",
       "    }\n",
       "\n",
       "    .dataframe thead th {\n",
       "        text-align: right;\n",
       "    }\n",
       "</style>\n",
       "<table border=\"1\" class=\"dataframe\">\n",
       "  <thead>\n",
       "    <tr style=\"text-align: right;\">\n",
       "      <th></th>\n",
       "      <th>id</th>\n",
       "      <th>0</th>\n",
       "    </tr>\n",
       "  </thead>\n",
       "  <tbody>\n",
       "    <tr>\n",
       "      <th>0</th>\n",
       "      <td>0</td>\n",
       "      <td>3.164393</td>\n",
       "    </tr>\n",
       "  </tbody>\n",
       "</table>\n",
       "</div>"
      ],
      "text/plain": [
       "  id         0\n",
       "0  0  3.164393"
      ]
     },
     "execution_count": 48,
     "metadata": {
      "tags": []
     },
     "output_type": "execute_result"
    }
   ],
   "source": [
    "print(train_1.shape)\n",
    "print(df_train.shape)\n",
    "train_dot.head(1)"
   ]
  },
  {
   "cell_type": "code",
   "execution_count": 0,
   "metadata": {
    "colab": {},
    "colab_type": "code",
    "id": "tmo1rBgB34z5"
   },
   "outputs": [],
   "source": [
    "train_dot.to_csv(\"train_dot_layer_merge_dot.csv\",index=False)\n",
    "train_1.to_csv(\"train_output_merge_dot.csv\",index=False)"
   ]
  },
  {
   "cell_type": "code",
   "execution_count": 0,
   "metadata": {
    "colab": {
     "base_uri": "https://localhost:8080/",
     "height": 204
    },
    "colab_type": "code",
    "id": "oHVbD1-sPgqp",
    "outputId": "4ebe8702-e848-4669-f1c7-49585527b884"
   },
   "outputs": [
    {
     "data": {
      "text/html": [
       "<div>\n",
       "<style scoped>\n",
       "    .dataframe tbody tr th:only-of-type {\n",
       "        vertical-align: middle;\n",
       "    }\n",
       "\n",
       "    .dataframe tbody tr th {\n",
       "        vertical-align: top;\n",
       "    }\n",
       "\n",
       "    .dataframe thead th {\n",
       "        text-align: right;\n",
       "    }\n",
       "</style>\n",
       "<table border=\"1\" class=\"dataframe\">\n",
       "  <thead>\n",
       "    <tr style=\"text-align: right;\">\n",
       "      <th></th>\n",
       "      <th>id</th>\n",
       "      <th>0</th>\n",
       "    </tr>\n",
       "  </thead>\n",
       "  <tbody>\n",
       "    <tr>\n",
       "      <th>0</th>\n",
       "      <td>0</td>\n",
       "      <td>3.164393</td>\n",
       "    </tr>\n",
       "    <tr>\n",
       "      <th>1</th>\n",
       "      <td>1</td>\n",
       "      <td>5.175281</td>\n",
       "    </tr>\n",
       "    <tr>\n",
       "      <th>2</th>\n",
       "      <td>2</td>\n",
       "      <td>4.425738</td>\n",
       "    </tr>\n",
       "    <tr>\n",
       "      <th>3</th>\n",
       "      <td>3</td>\n",
       "      <td>5.461930</td>\n",
       "    </tr>\n",
       "    <tr>\n",
       "      <th>4</th>\n",
       "      <td>4</td>\n",
       "      <td>5.053749</td>\n",
       "    </tr>\n",
       "  </tbody>\n",
       "</table>\n",
       "</div>"
      ],
      "text/plain": [
       "   id         0\n",
       "0   0  3.164393\n",
       "1   1  5.175281\n",
       "2   2  4.425738\n",
       "3   3  5.461930\n",
       "4   4  5.053749"
      ]
     },
     "execution_count": 50,
     "metadata": {
      "tags": []
     },
     "output_type": "execute_result"
    }
   ],
   "source": [
    "pd.read_csv(\"train_dot_layer_merge_dot.csv\").head()"
   ]
  },
  {
   "cell_type": "code",
   "execution_count": 0,
   "metadata": {
    "colab": {},
    "colab_type": "code",
    "id": "JfiWXVciVt-b"
   },
   "outputs": [],
   "source": [
    "test_dot.to_csv(\"test_dot_layer_merge_dot.csv\",index=False)\n",
    "test_1.to_csv(\"test_output_merge_dot.csv\",index=False)"
   ]
  },
  {
   "cell_type": "code",
   "execution_count": 0,
   "metadata": {
    "colab": {
     "base_uri": "https://localhost:8080/",
     "height": 204
    },
    "colab_type": "code",
    "id": "nz3zsF_Wjlzu",
    "outputId": "d0404aa3-38a3-4292-c61e-134c04fb83b5"
   },
   "outputs": [
    {
     "data": {
      "text/html": [
       "<div>\n",
       "<style scoped>\n",
       "    .dataframe tbody tr th:only-of-type {\n",
       "        vertical-align: middle;\n",
       "    }\n",
       "\n",
       "    .dataframe tbody tr th {\n",
       "        vertical-align: top;\n",
       "    }\n",
       "\n",
       "    .dataframe thead th {\n",
       "        text-align: right;\n",
       "    }\n",
       "</style>\n",
       "<table border=\"1\" class=\"dataframe\">\n",
       "  <thead>\n",
       "    <tr style=\"text-align: right;\">\n",
       "      <th></th>\n",
       "      <th>id</th>\n",
       "      <th>0</th>\n",
       "    </tr>\n",
       "  </thead>\n",
       "  <tbody>\n",
       "    <tr>\n",
       "      <th>0</th>\n",
       "      <td>0</td>\n",
       "      <td>0.654116</td>\n",
       "    </tr>\n",
       "    <tr>\n",
       "      <th>1</th>\n",
       "      <td>1</td>\n",
       "      <td>0.020497</td>\n",
       "    </tr>\n",
       "    <tr>\n",
       "      <th>2</th>\n",
       "      <td>2</td>\n",
       "      <td>0.078235</td>\n",
       "    </tr>\n",
       "    <tr>\n",
       "      <th>3</th>\n",
       "      <td>3</td>\n",
       "      <td>0.001608</td>\n",
       "    </tr>\n",
       "    <tr>\n",
       "      <th>4</th>\n",
       "      <td>4</td>\n",
       "      <td>0.007873</td>\n",
       "    </tr>\n",
       "  </tbody>\n",
       "</table>\n",
       "</div>"
      ],
      "text/plain": [
       "   id         0\n",
       "0   0  0.654116\n",
       "1   1  0.020497\n",
       "2   2  0.078235\n",
       "3   3  0.001608\n",
       "4   4  0.007873"
      ]
     },
     "execution_count": 74,
     "metadata": {
      "tags": []
     },
     "output_type": "execute_result"
    }
   ],
   "source": [
    "pd.read_csv(\"train_1.csv\").head()"
   ]
  },
  {
   "cell_type": "code",
   "execution_count": 0,
   "metadata": {
    "colab": {},
    "colab_type": "code",
    "id": "ukU1qqYsWiuv"
   },
   "outputs": [],
   "source": []
  }
 ],
 "metadata": {
  "accelerator": "GPU",
  "colab": {
   "collapsed_sections": [],
   "name": "Dot_Product.ipynb",
   "provenance": [],
   "toc_visible": true,
   "version": "0.3.2"
  },
  "kernelspec": {
   "display_name": "Python 3",
   "language": "python",
   "name": "python3"
  },
  "language_info": {
   "codemirror_mode": {
    "name": "ipython",
    "version": 3
   },
   "file_extension": ".py",
   "mimetype": "text/x-python",
   "name": "python",
   "nbconvert_exporter": "python",
   "pygments_lexer": "ipython3",
   "version": "3.6.5"
  },
  "toc": {
   "base_numbering": 1,
   "nav_menu": {},
   "number_sections": true,
   "sideBar": true,
   "skip_h1_title": false,
   "title_cell": "Table of Contents",
   "title_sidebar": "Contents",
   "toc_cell": true,
   "toc_position": {},
   "toc_section_display": true,
   "toc_window_display": true
  }
 },
 "nbformat": 4,
 "nbformat_minor": 1
}
