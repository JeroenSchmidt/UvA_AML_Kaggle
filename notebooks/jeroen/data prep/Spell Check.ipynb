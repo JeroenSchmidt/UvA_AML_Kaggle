{
 "cells": [
  {
   "cell_type": "code",
   "execution_count": 1,
   "metadata": {
    "ExecuteTime": {
     "end_time": "2018-11-29T18:46:19.861227Z",
     "start_time": "2018-11-29T18:46:19.574860Z"
    }
   },
   "outputs": [],
   "source": [
    "import pandas as pd"
   ]
  },
  {
   "cell_type": "code",
   "execution_count": 5,
   "metadata": {
    "ExecuteTime": {
     "end_time": "2018-11-29T18:46:36.421585Z",
     "start_time": "2018-11-29T18:46:35.517773Z"
    }
   },
   "outputs": [],
   "source": [
    "train = pd.read_csv(\"../../../data/train_data.csv\").drop(\"is_duplicate\",axis=1)"
   ]
  },
  {
   "cell_type": "code",
   "execution_count": 6,
   "metadata": {
    "ExecuteTime": {
     "end_time": "2018-11-29T18:46:38.990986Z",
     "start_time": "2018-11-29T18:46:38.903220Z"
    }
   },
   "outputs": [],
   "source": [
    "train = train[~(train.question2.isna() | train.question1.isna())]"
   ]
  },
  {
   "cell_type": "code",
   "execution_count": 8,
   "metadata": {
    "ExecuteTime": {
     "end_time": "2018-11-29T18:47:43.475268Z",
     "start_time": "2018-11-29T18:47:42.036695Z"
    }
   },
   "outputs": [
    {
     "data": {
      "text/plain": [
       "True"
      ]
     },
     "execution_count": 8,
     "metadata": {},
     "output_type": "execute_result"
    }
   ],
   "source": [
    "import jamspell\n",
    "\n",
    "corrector = jamspell.TSpellCorrector()\n",
    "corrector.LoadLangModel('../../../spell_checker/en.bin')"
   ]
  },
  {
   "cell_type": "code",
   "execution_count": 9,
   "metadata": {
    "ExecuteTime": {
     "end_time": "2018-11-29T18:47:57.572689Z",
     "start_time": "2018-11-29T18:47:57.568444Z"
    }
   },
   "outputs": [],
   "source": [
    "q1 = train.question1.values\n",
    "q2 = train.question2.values"
   ]
  },
  {
   "cell_type": "code",
   "execution_count": 10,
   "metadata": {
    "ExecuteTime": {
     "end_time": "2018-11-29T18:48:00.912845Z",
     "start_time": "2018-11-29T18:48:00.909741Z"
    }
   },
   "outputs": [],
   "source": [
    "import numpy as np\n",
    "v_corrector = np.vectorize(corrector.FixFragment)\n"
   ]
  },
  {
   "cell_type": "code",
   "execution_count": 11,
   "metadata": {
    "ExecuteTime": {
     "end_time": "2018-11-29T18:56:04.731543Z",
     "start_time": "2018-11-29T18:48:09.312396Z"
    }
   },
   "outputs": [],
   "source": [
    "q1_corrected = v_corrector(q1)"
   ]
  },
  {
   "cell_type": "code",
   "execution_count": 12,
   "metadata": {
    "ExecuteTime": {
     "end_time": "2018-11-29T19:04:04.576876Z",
     "start_time": "2018-11-29T18:56:04.733800Z"
    }
   },
   "outputs": [],
   "source": [
    "q2_corrected = v_corrector(q2)"
   ]
  },
  {
   "cell_type": "code",
   "execution_count": 13,
   "metadata": {
    "ExecuteTime": {
     "end_time": "2018-11-29T19:04:05.325216Z",
     "start_time": "2018-11-29T19:04:04.580491Z"
    }
   },
   "outputs": [],
   "source": [
    "spell_checked = pd.DataFrame({\"id\":train.id.values,\"q1\":q1_corrected,\"q2\":q2_corrected})"
   ]
  },
  {
   "cell_type": "code",
   "execution_count": 14,
   "metadata": {
    "ExecuteTime": {
     "end_time": "2018-11-29T19:10:24.193682Z",
     "start_time": "2018-11-29T19:10:22.031452Z"
    }
   },
   "outputs": [],
   "source": [
    "spell_checked.to_csv(\"../../../data/train_data_spellcheck.csv\")"
   ]
  },
  {
   "cell_type": "code",
   "execution_count": null,
   "metadata": {},
   "outputs": [],
   "source": []
  }
 ],
 "metadata": {
  "kernelspec": {
   "display_name": "AML",
   "language": "python",
   "name": "aml"
  },
  "language_info": {
   "codemirror_mode": {
    "name": "ipython",
    "version": 3
   },
   "file_extension": ".py",
   "mimetype": "text/x-python",
   "name": "python",
   "nbconvert_exporter": "python",
   "pygments_lexer": "ipython3",
   "version": "3.6.6"
  },
  "toc": {
   "base_numbering": 1,
   "nav_menu": {},
   "number_sections": true,
   "sideBar": true,
   "skip_h1_title": false,
   "title_cell": "Table of Contents",
   "title_sidebar": "Contents",
   "toc_cell": false,
   "toc_position": {},
   "toc_section_display": true,
   "toc_window_display": false
  }
 },
 "nbformat": 4,
 "nbformat_minor": 2
}
