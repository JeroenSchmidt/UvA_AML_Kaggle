{
 "cells": [
  {
   "cell_type": "code",
   "execution_count": 1,
   "metadata": {
    "ExecuteTime": {
     "end_time": "2018-11-24T17:06:38.632471Z",
     "start_time": "2018-11-24T17:06:37.447155Z"
    }
   },
   "outputs": [],
   "source": [
    "import networkx as nx\n",
    "import pandas as pd\n",
    "%matplotlib inline"
   ]
  },
  {
   "cell_type": "code",
   "execution_count": 2,
   "metadata": {
    "ExecuteTime": {
     "end_time": "2018-11-24T17:06:39.668222Z",
     "start_time": "2018-11-24T17:06:38.635079Z"
    }
   },
   "outputs": [],
   "source": [
    "train = pd.read_csv(\"data/train_data.csv\").set_index(\"id\").drop(\"is_duplicate\",axis=1)"
   ]
  },
  {
   "cell_type": "code",
   "execution_count": 3,
   "metadata": {
    "ExecuteTime": {
     "end_time": "2018-11-24T17:06:39.673286Z",
     "start_time": "2018-11-24T17:06:39.670253Z"
    }
   },
   "outputs": [],
   "source": [
    "#train = train.sample(n=5000)"
   ]
  },
  {
   "cell_type": "code",
   "execution_count": 4,
   "metadata": {
    "ExecuteTime": {
     "end_time": "2018-11-24T17:06:40.094536Z",
     "start_time": "2018-11-24T17:06:39.676928Z"
    }
   },
   "outputs": [],
   "source": [
    "nodes_a = pd.concat([train.question1,train.question2]).unique()"
   ]
  },
  {
   "cell_type": "code",
   "execution_count": 5,
   "metadata": {
    "ExecuteTime": {
     "end_time": "2018-11-24T17:06:40.189211Z",
     "start_time": "2018-11-24T17:06:40.097609Z"
    }
   },
   "outputs": [],
   "source": [
    "labels = pd.read_csv(\"data/train_labels.csv\").set_index(\"id\")"
   ]
  },
  {
   "cell_type": "code",
   "execution_count": 6,
   "metadata": {
    "ExecuteTime": {
     "end_time": "2018-11-24T17:06:40.242584Z",
     "start_time": "2018-11-24T17:06:40.192138Z"
    }
   },
   "outputs": [
    {
     "data": {
      "text/plain": [
       "449442"
      ]
     },
     "execution_count": 6,
     "metadata": {},
     "output_type": "execute_result"
    }
   ],
   "source": [
    "len(nodes_a)"
   ]
  },
  {
   "cell_type": "code",
   "execution_count": 7,
   "metadata": {
    "ExecuteTime": {
     "end_time": "2018-11-24T17:06:40.264312Z",
     "start_time": "2018-11-24T17:06:40.245879Z"
    }
   },
   "outputs": [
    {
     "data": {
      "text/html": [
       "<div>\n",
       "<style scoped>\n",
       "    .dataframe tbody tr th:only-of-type {\n",
       "        vertical-align: middle;\n",
       "    }\n",
       "\n",
       "    .dataframe tbody tr th {\n",
       "        vertical-align: top;\n",
       "    }\n",
       "\n",
       "    .dataframe thead th {\n",
       "        text-align: right;\n",
       "    }\n",
       "</style>\n",
       "<table border=\"1\" class=\"dataframe\">\n",
       "  <thead>\n",
       "    <tr style=\"text-align: right;\">\n",
       "      <th></th>\n",
       "      <th>question</th>\n",
       "      <th>q_id</th>\n",
       "    </tr>\n",
       "  </thead>\n",
       "  <tbody>\n",
       "    <tr>\n",
       "      <th>0</th>\n",
       "      <td>What is the step by step guide to invest in sh...</td>\n",
       "      <td>0</td>\n",
       "    </tr>\n",
       "    <tr>\n",
       "      <th>1</th>\n",
       "      <td>What is the story of Kohinoor (Koh-i-Noor) Dia...</td>\n",
       "      <td>1</td>\n",
       "    </tr>\n",
       "    <tr>\n",
       "      <th>2</th>\n",
       "      <td>How can I increase the speed of my internet co...</td>\n",
       "      <td>2</td>\n",
       "    </tr>\n",
       "    <tr>\n",
       "      <th>3</th>\n",
       "      <td>Why am I mentally very lonely? How can I solve...</td>\n",
       "      <td>3</td>\n",
       "    </tr>\n",
       "    <tr>\n",
       "      <th>4</th>\n",
       "      <td>Which one dissolve in water quikly sugar, salt...</td>\n",
       "      <td>4</td>\n",
       "    </tr>\n",
       "  </tbody>\n",
       "</table>\n",
       "</div>"
      ],
      "text/plain": [
       "                                            question  q_id\n",
       "0  What is the step by step guide to invest in sh...     0\n",
       "1  What is the story of Kohinoor (Koh-i-Noor) Dia...     1\n",
       "2  How can I increase the speed of my internet co...     2\n",
       "3  Why am I mentally very lonely? How can I solve...     3\n",
       "4  Which one dissolve in water quikly sugar, salt...     4"
      ]
     },
     "execution_count": 7,
     "metadata": {},
     "output_type": "execute_result"
    }
   ],
   "source": [
    "nodes = pd.DataFrame(nodes_a,columns=[\"question\"])\n",
    "#nodes.index.name = \"q_id\"\n",
    "nodes[\"q_id\"] = nodes.index\n",
    "nodes.head()"
   ]
  },
  {
   "cell_type": "code",
   "execution_count": 8,
   "metadata": {
    "ExecuteTime": {
     "end_time": "2018-11-24T17:06:44.914530Z",
     "start_time": "2018-11-24T17:06:43.416818Z"
    }
   },
   "outputs": [],
   "source": [
    "train[\"pair_id\"] = train.index\n",
    "\n",
    "edges = train.merge(nodes, how='inner', left_on=\"question1\", right_on=\"question\")\\\n",
    "        .drop(\"question\",axis=1)\\\n",
    "        .rename(columns={\"q_id\":\"q1_id\"})\\\n",
    "        .merge(nodes, how='inner', left_on=\"question2\", right_on=\"question\")\\\n",
    "        .drop(\"question\",axis=1)\\\n",
    "        .rename(columns={\"q_id\":\"q2_id\"})\\\n",
    "        .drop([\"question1\",\"question2\"],axis=1)"
   ]
  },
  {
   "cell_type": "code",
   "execution_count": 14,
   "metadata": {
    "ExecuteTime": {
     "end_time": "2018-11-24T17:04:29.018370Z",
     "start_time": "2018-11-24T17:04:29.009682Z"
    }
   },
   "outputs": [
    {
     "data": {
      "text/html": [
       "<div>\n",
       "<style scoped>\n",
       "    .dataframe tbody tr th:only-of-type {\n",
       "        vertical-align: middle;\n",
       "    }\n",
       "\n",
       "    .dataframe tbody tr th {\n",
       "        vertical-align: top;\n",
       "    }\n",
       "\n",
       "    .dataframe thead th {\n",
       "        text-align: right;\n",
       "    }\n",
       "</style>\n",
       "<table border=\"1\" class=\"dataframe\">\n",
       "  <thead>\n",
       "    <tr style=\"text-align: right;\">\n",
       "      <th></th>\n",
       "      <th>pair_id</th>\n",
       "      <th>q1_id</th>\n",
       "      <th>q2_id</th>\n",
       "    </tr>\n",
       "  </thead>\n",
       "  <tbody>\n",
       "    <tr>\n",
       "      <th>0</th>\n",
       "      <td>117816</td>\n",
       "      <td>0</td>\n",
       "      <td>4947</td>\n",
       "    </tr>\n",
       "  </tbody>\n",
       "</table>\n",
       "</div>"
      ],
      "text/plain": [
       "   pair_id  q1_id  q2_id\n",
       "0   117816      0   4947"
      ]
     },
     "execution_count": 14,
     "metadata": {},
     "output_type": "execute_result"
    }
   ],
   "source": [
    "edges.head(1)"
   ]
  },
  {
   "cell_type": "code",
   "execution_count": 9,
   "metadata": {
    "ExecuteTime": {
     "end_time": "2018-11-24T17:06:48.912248Z",
     "start_time": "2018-11-24T17:06:47.088298Z"
    }
   },
   "outputs": [],
   "source": [
    "G = nx.from_pandas_edgelist(edges,source='q1_id', target='q2_id')"
   ]
  },
  {
   "cell_type": "code",
   "execution_count": 10,
   "metadata": {
    "ExecuteTime": {
     "end_time": "2018-11-24T17:06:48.920454Z",
     "start_time": "2018-11-24T17:06:48.915203Z"
    }
   },
   "outputs": [
    {
     "data": {
      "text/plain": [
       "449442"
      ]
     },
     "execution_count": 10,
     "metadata": {},
     "output_type": "execute_result"
    }
   ],
   "source": [
    "G.number_of_nodes()"
   ]
  },
  {
   "cell_type": "markdown",
   "metadata": {},
   "source": [
    "\n",
    "## Get edges"
   ]
  },
  {
   "cell_type": "code",
   "execution_count": 11,
   "metadata": {
    "ExecuteTime": {
     "end_time": "2018-11-24T17:06:54.479063Z",
     "start_time": "2018-11-24T17:06:54.474626Z"
    }
   },
   "outputs": [],
   "source": [
    "d = G.degree\n",
    "def get_degree(qid):\n",
    "    return d[qid]"
   ]
  },
  {
   "cell_type": "code",
   "execution_count": 19,
   "metadata": {
    "ExecuteTime": {
     "end_time": "2018-11-24T17:08:49.975679Z",
     "start_time": "2018-11-24T17:08:27.012574Z"
    }
   },
   "outputs": [],
   "source": [
    "train_ic = train\n",
    "train_ic['q1_d'] = edges.apply(lambda row: get_degree(row.q1_id), axis=1)\n",
    "train_ic['q2_d'] = edges.apply(lambda row: get_degree(row.q2_id), axis=1)"
   ]
  },
  {
   "cell_type": "code",
   "execution_count": 20,
   "metadata": {
    "ExecuteTime": {
     "end_time": "2018-11-24T17:08:50.001868Z",
     "start_time": "2018-11-24T17:08:49.979435Z"
    }
   },
   "outputs": [
    {
     "data": {
      "text/plain": [
       "(117597, 5)"
      ]
     },
     "execution_count": 20,
     "metadata": {},
     "output_type": "execute_result"
    }
   ],
   "source": [
    "train_ic[train_ic['q1_d'] > 1].shape"
   ]
  },
  {
   "cell_type": "code",
   "execution_count": 21,
   "metadata": {
    "ExecuteTime": {
     "end_time": "2018-11-24T17:08:50.020261Z",
     "start_time": "2018-11-24T17:08:50.004105Z"
    }
   },
   "outputs": [
    {
     "data": {
      "text/plain": [
       "(73134, 5)"
      ]
     },
     "execution_count": 21,
     "metadata": {},
     "output_type": "execute_result"
    }
   ],
   "source": [
    "train_ic[train_ic['q1_d'] > 2].shape"
   ]
  },
  {
   "cell_type": "markdown",
   "metadata": {},
   "source": [
    "## Get Intersection count "
   ]
  },
  {
   "cell_type": "code",
   "execution_count": 15,
   "metadata": {
    "ExecuteTime": {
     "end_time": "2018-11-24T17:07:56.242081Z",
     "start_time": "2018-11-24T17:07:56.235170Z"
    }
   },
   "outputs": [],
   "source": [
    "def get_intersection_count(row):\n",
    "    q1_id = row.q1_id\n",
    "    q2_id = row.q2_id\n",
    "    \n",
    "    intersection_count = len(\n",
    "                            set(G.neighbors(q1_id))\\\n",
    "                                    .intersection(set(G.neighbors(q2_id)))\n",
    "                            )\n",
    "    \n",
    "    return(intersection_count)"
   ]
  },
  {
   "cell_type": "code",
   "execution_count": 16,
   "metadata": {
    "ExecuteTime": {
     "end_time": "2018-11-24T17:08:15.713001Z",
     "start_time": "2018-11-24T17:07:56.769619Z"
    }
   },
   "outputs": [
    {
     "data": {
      "text/plain": [
       "(45346, 4)"
      ]
     },
     "execution_count": 16,
     "metadata": {},
     "output_type": "execute_result"
    }
   ],
   "source": [
    "#train_ic = edges\n",
    "#test_ic = pd.DataFrame()\n",
    "\n",
    "train_ic['intersection_count'] = edges.apply(lambda row: get_intersection_count(row), axis=1)\n",
    "train_ic[train_ic['intersection_count'] > 1].shape"
   ]
  },
  {
   "cell_type": "code",
   "execution_count": 127,
   "metadata": {
    "ExecuteTime": {
     "end_time": "2018-11-24T14:40:38.715901Z",
     "start_time": "2018-11-24T14:40:38.650945Z"
    },
    "scrolled": true
   },
   "outputs": [
    {
     "data": {
      "text/html": [
       "<div>\n",
       "<style scoped>\n",
       "    .dataframe tbody tr th:only-of-type {\n",
       "        vertical-align: middle;\n",
       "    }\n",
       "\n",
       "    .dataframe tbody tr th {\n",
       "        vertical-align: top;\n",
       "    }\n",
       "\n",
       "    .dataframe thead th {\n",
       "        text-align: right;\n",
       "    }\n",
       "</style>\n",
       "<table border=\"1\" class=\"dataframe\">\n",
       "  <thead>\n",
       "    <tr style=\"text-align: right;\">\n",
       "      <th></th>\n",
       "      <th>pair_id</th>\n",
       "      <th>q1_id</th>\n",
       "      <th>q2_id</th>\n",
       "      <th>intersection_count</th>\n",
       "    </tr>\n",
       "  </thead>\n",
       "  <tbody>\n",
       "    <tr>\n",
       "      <th>0</th>\n",
       "      <td>0</td>\n",
       "      <td>0</td>\n",
       "      <td>241804</td>\n",
       "      <td>0</td>\n",
       "    </tr>\n",
       "    <tr>\n",
       "      <th>215405</th>\n",
       "      <td>182971</td>\n",
       "      <td>122326</td>\n",
       "      <td>341534</td>\n",
       "      <td>0</td>\n",
       "    </tr>\n",
       "    <tr>\n",
       "      <th>215404</th>\n",
       "      <td>182970</td>\n",
       "      <td>122325</td>\n",
       "      <td>341533</td>\n",
       "      <td>0</td>\n",
       "    </tr>\n",
       "    <tr>\n",
       "      <th>215403</th>\n",
       "      <td>310445</td>\n",
       "      <td>122324</td>\n",
       "      <td>404663</td>\n",
       "      <td>0</td>\n",
       "    </tr>\n",
       "    <tr>\n",
       "      <th>215402</th>\n",
       "      <td>182968</td>\n",
       "      <td>122324</td>\n",
       "      <td>341532</td>\n",
       "      <td>0</td>\n",
       "    </tr>\n",
       "    <tr>\n",
       "      <th>215401</th>\n",
       "      <td>182967</td>\n",
       "      <td>122323</td>\n",
       "      <td>341531</td>\n",
       "      <td>0</td>\n",
       "    </tr>\n",
       "    <tr>\n",
       "      <th>215400</th>\n",
       "      <td>182966</td>\n",
       "      <td>122322</td>\n",
       "      <td>341530</td>\n",
       "      <td>0</td>\n",
       "    </tr>\n",
       "    <tr>\n",
       "      <th>215399</th>\n",
       "      <td>378942</td>\n",
       "      <td>122321</td>\n",
       "      <td>437340</td>\n",
       "      <td>0</td>\n",
       "    </tr>\n",
       "    <tr>\n",
       "      <th>215398</th>\n",
       "      <td>182963</td>\n",
       "      <td>122321</td>\n",
       "      <td>341529</td>\n",
       "      <td>0</td>\n",
       "    </tr>\n",
       "    <tr>\n",
       "      <th>215397</th>\n",
       "      <td>182961</td>\n",
       "      <td>122319</td>\n",
       "      <td>341528</td>\n",
       "      <td>0</td>\n",
       "    </tr>\n",
       "    <tr>\n",
       "      <th>215396</th>\n",
       "      <td>182960</td>\n",
       "      <td>122318</td>\n",
       "      <td>341527</td>\n",
       "      <td>0</td>\n",
       "    </tr>\n",
       "    <tr>\n",
       "      <th>215395</th>\n",
       "      <td>182959</td>\n",
       "      <td>122317</td>\n",
       "      <td>341526</td>\n",
       "      <td>0</td>\n",
       "    </tr>\n",
       "    <tr>\n",
       "      <th>215394</th>\n",
       "      <td>182956</td>\n",
       "      <td>122316</td>\n",
       "      <td>341525</td>\n",
       "      <td>0</td>\n",
       "    </tr>\n",
       "    <tr>\n",
       "      <th>215393</th>\n",
       "      <td>211325</td>\n",
       "      <td>138793</td>\n",
       "      <td>341524</td>\n",
       "      <td>0</td>\n",
       "    </tr>\n",
       "    <tr>\n",
       "      <th>215392</th>\n",
       "      <td>182955</td>\n",
       "      <td>122315</td>\n",
       "      <td>341524</td>\n",
       "      <td>0</td>\n",
       "    </tr>\n",
       "    <tr>\n",
       "      <th>215391</th>\n",
       "      <td>182953</td>\n",
       "      <td>122313</td>\n",
       "      <td>341523</td>\n",
       "      <td>0</td>\n",
       "    </tr>\n",
       "    <tr>\n",
       "      <th>215406</th>\n",
       "      <td>201419</td>\n",
       "      <td>133030</td>\n",
       "      <td>341534</td>\n",
       "      <td>0</td>\n",
       "    </tr>\n",
       "    <tr>\n",
       "      <th>215390</th>\n",
       "      <td>182951</td>\n",
       "      <td>122312</td>\n",
       "      <td>341522</td>\n",
       "      <td>0</td>\n",
       "    </tr>\n",
       "    <tr>\n",
       "      <th>215407</th>\n",
       "      <td>182976</td>\n",
       "      <td>122327</td>\n",
       "      <td>341536</td>\n",
       "      <td>0</td>\n",
       "    </tr>\n",
       "    <tr>\n",
       "      <th>215409</th>\n",
       "      <td>182978</td>\n",
       "      <td>122329</td>\n",
       "      <td>341538</td>\n",
       "      <td>0</td>\n",
       "    </tr>\n",
       "    <tr>\n",
       "      <th>215424</th>\n",
       "      <td>182997</td>\n",
       "      <td>122343</td>\n",
       "      <td>341554</td>\n",
       "      <td>0</td>\n",
       "    </tr>\n",
       "    <tr>\n",
       "      <th>215423</th>\n",
       "      <td>182996</td>\n",
       "      <td>122342</td>\n",
       "      <td>341553</td>\n",
       "      <td>0</td>\n",
       "    </tr>\n",
       "    <tr>\n",
       "      <th>215422</th>\n",
       "      <td>182994</td>\n",
       "      <td>122340</td>\n",
       "      <td>341552</td>\n",
       "      <td>0</td>\n",
       "    </tr>\n",
       "    <tr>\n",
       "      <th>215421</th>\n",
       "      <td>182993</td>\n",
       "      <td>122339</td>\n",
       "      <td>341551</td>\n",
       "      <td>0</td>\n",
       "    </tr>\n",
       "    <tr>\n",
       "      <th>215420</th>\n",
       "      <td>182992</td>\n",
       "      <td>122338</td>\n",
       "      <td>341550</td>\n",
       "      <td>0</td>\n",
       "    </tr>\n",
       "    <tr>\n",
       "      <th>215419</th>\n",
       "      <td>249722</td>\n",
       "      <td>160436</td>\n",
       "      <td>341549</td>\n",
       "      <td>0</td>\n",
       "    </tr>\n",
       "    <tr>\n",
       "      <th>215418</th>\n",
       "      <td>182990</td>\n",
       "      <td>122337</td>\n",
       "      <td>341549</td>\n",
       "      <td>0</td>\n",
       "    </tr>\n",
       "    <tr>\n",
       "      <th>215417</th>\n",
       "      <td>395723</td>\n",
       "      <td>122336</td>\n",
       "      <td>445371</td>\n",
       "      <td>0</td>\n",
       "    </tr>\n",
       "    <tr>\n",
       "      <th>215416</th>\n",
       "      <td>182988</td>\n",
       "      <td>122336</td>\n",
       "      <td>341547</td>\n",
       "      <td>0</td>\n",
       "    </tr>\n",
       "    <tr>\n",
       "      <th>215415</th>\n",
       "      <td>182987</td>\n",
       "      <td>122335</td>\n",
       "      <td>341546</td>\n",
       "      <td>0</td>\n",
       "    </tr>\n",
       "    <tr>\n",
       "      <th>...</th>\n",
       "      <td>...</td>\n",
       "      <td>...</td>\n",
       "      <td>...</td>\n",
       "      <td>...</td>\n",
       "    </tr>\n",
       "    <tr>\n",
       "      <th>203</th>\n",
       "      <td>98031</td>\n",
       "      <td>22701</td>\n",
       "      <td>11983</td>\n",
       "      <td>32</td>\n",
       "    </tr>\n",
       "    <tr>\n",
       "      <th>155</th>\n",
       "      <td>248012</td>\n",
       "      <td>13699</td>\n",
       "      <td>30079</td>\n",
       "      <td>32</td>\n",
       "    </tr>\n",
       "    <tr>\n",
       "      <th>385</th>\n",
       "      <td>241750</td>\n",
       "      <td>9879</td>\n",
       "      <td>18991</td>\n",
       "      <td>33</td>\n",
       "    </tr>\n",
       "    <tr>\n",
       "      <th>9515</th>\n",
       "      <td>331287</td>\n",
       "      <td>3389</td>\n",
       "      <td>6205</td>\n",
       "      <td>33</td>\n",
       "    </tr>\n",
       "    <tr>\n",
       "      <th>22918</th>\n",
       "      <td>355649</td>\n",
       "      <td>3114</td>\n",
       "      <td>29409</td>\n",
       "      <td>33</td>\n",
       "    </tr>\n",
       "    <tr>\n",
       "      <th>52</th>\n",
       "      <td>380133</td>\n",
       "      <td>11983</td>\n",
       "      <td>49466</td>\n",
       "      <td>33</td>\n",
       "    </tr>\n",
       "    <tr>\n",
       "      <th>180</th>\n",
       "      <td>56397</td>\n",
       "      <td>13073</td>\n",
       "      <td>2628</td>\n",
       "      <td>33</td>\n",
       "    </tr>\n",
       "    <tr>\n",
       "      <th>7412</th>\n",
       "      <td>96504</td>\n",
       "      <td>5519</td>\n",
       "      <td>11448</td>\n",
       "      <td>33</td>\n",
       "    </tr>\n",
       "    <tr>\n",
       "      <th>15534</th>\n",
       "      <td>382091</td>\n",
       "      <td>9879</td>\n",
       "      <td>30587</td>\n",
       "      <td>33</td>\n",
       "    </tr>\n",
       "    <tr>\n",
       "      <th>379</th>\n",
       "      <td>82653</td>\n",
       "      <td>4894</td>\n",
       "      <td>18991</td>\n",
       "      <td>34</td>\n",
       "    </tr>\n",
       "    <tr>\n",
       "      <th>9558</th>\n",
       "      <td>36063</td>\n",
       "      <td>10585</td>\n",
       "      <td>17257</td>\n",
       "      <td>34</td>\n",
       "    </tr>\n",
       "    <tr>\n",
       "      <th>11311</th>\n",
       "      <td>316048</td>\n",
       "      <td>1419</td>\n",
       "      <td>40521</td>\n",
       "      <td>34</td>\n",
       "    </tr>\n",
       "    <tr>\n",
       "      <th>196</th>\n",
       "      <td>287913</td>\n",
       "      <td>13073</td>\n",
       "      <td>11983</td>\n",
       "      <td>34</td>\n",
       "    </tr>\n",
       "    <tr>\n",
       "      <th>9495</th>\n",
       "      <td>147176</td>\n",
       "      <td>10585</td>\n",
       "      <td>55992</td>\n",
       "      <td>34</td>\n",
       "    </tr>\n",
       "    <tr>\n",
       "      <th>15444</th>\n",
       "      <td>289600</td>\n",
       "      <td>8353</td>\n",
       "      <td>9879</td>\n",
       "      <td>34</td>\n",
       "    </tr>\n",
       "    <tr>\n",
       "      <th>604</th>\n",
       "      <td>278649</td>\n",
       "      <td>30587</td>\n",
       "      <td>4894</td>\n",
       "      <td>34</td>\n",
       "    </tr>\n",
       "    <tr>\n",
       "      <th>26759</th>\n",
       "      <td>179505</td>\n",
       "      <td>10585</td>\n",
       "      <td>24137</td>\n",
       "      <td>34</td>\n",
       "    </tr>\n",
       "    <tr>\n",
       "      <th>482</th>\n",
       "      <td>249513</td>\n",
       "      <td>9879</td>\n",
       "      <td>64296</td>\n",
       "      <td>34</td>\n",
       "    </tr>\n",
       "    <tr>\n",
       "      <th>26744</th>\n",
       "      <td>223395</td>\n",
       "      <td>10585</td>\n",
       "      <td>1557</td>\n",
       "      <td>34</td>\n",
       "    </tr>\n",
       "    <tr>\n",
       "      <th>152</th>\n",
       "      <td>81698</td>\n",
       "      <td>11983</td>\n",
       "      <td>30079</td>\n",
       "      <td>34</td>\n",
       "    </tr>\n",
       "    <tr>\n",
       "      <th>154</th>\n",
       "      <td>75377</td>\n",
       "      <td>13073</td>\n",
       "      <td>30079</td>\n",
       "      <td>34</td>\n",
       "    </tr>\n",
       "    <tr>\n",
       "      <th>187</th>\n",
       "      <td>12919</td>\n",
       "      <td>2628</td>\n",
       "      <td>11983</td>\n",
       "      <td>34</td>\n",
       "    </tr>\n",
       "    <tr>\n",
       "      <th>588</th>\n",
       "      <td>165422</td>\n",
       "      <td>8353</td>\n",
       "      <td>4894</td>\n",
       "      <td>35</td>\n",
       "    </tr>\n",
       "    <tr>\n",
       "      <th>9524</th>\n",
       "      <td>13537</td>\n",
       "      <td>10585</td>\n",
       "      <td>6205</td>\n",
       "      <td>35</td>\n",
       "    </tr>\n",
       "    <tr>\n",
       "      <th>611</th>\n",
       "      <td>326041</td>\n",
       "      <td>64296</td>\n",
       "      <td>4894</td>\n",
       "      <td>35</td>\n",
       "    </tr>\n",
       "    <tr>\n",
       "      <th>145</th>\n",
       "      <td>286947</td>\n",
       "      <td>2628</td>\n",
       "      <td>30079</td>\n",
       "      <td>35</td>\n",
       "    </tr>\n",
       "    <tr>\n",
       "      <th>581</th>\n",
       "      <td>328610</td>\n",
       "      <td>4113</td>\n",
       "      <td>4894</td>\n",
       "      <td>36</td>\n",
       "    </tr>\n",
       "    <tr>\n",
       "      <th>7588</th>\n",
       "      <td>364925</td>\n",
       "      <td>5672</td>\n",
       "      <td>5519</td>\n",
       "      <td>36</td>\n",
       "    </tr>\n",
       "    <tr>\n",
       "      <th>26771</th>\n",
       "      <td>313737</td>\n",
       "      <td>3389</td>\n",
       "      <td>10585</td>\n",
       "      <td>37</td>\n",
       "    </tr>\n",
       "    <tr>\n",
       "      <th>590</th>\n",
       "      <td>14734</td>\n",
       "      <td>9879</td>\n",
       "      <td>4894</td>\n",
       "      <td>38</td>\n",
       "    </tr>\n",
       "  </tbody>\n",
       "</table>\n",
       "<p>323164 rows × 4 columns</p>\n",
       "</div>"
      ],
      "text/plain": [
       "        pair_id   q1_id   q2_id  intersection_count\n",
       "0             0       0  241804                   0\n",
       "215405   182971  122326  341534                   0\n",
       "215404   182970  122325  341533                   0\n",
       "215403   310445  122324  404663                   0\n",
       "215402   182968  122324  341532                   0\n",
       "215401   182967  122323  341531                   0\n",
       "215400   182966  122322  341530                   0\n",
       "215399   378942  122321  437340                   0\n",
       "215398   182963  122321  341529                   0\n",
       "215397   182961  122319  341528                   0\n",
       "215396   182960  122318  341527                   0\n",
       "215395   182959  122317  341526                   0\n",
       "215394   182956  122316  341525                   0\n",
       "215393   211325  138793  341524                   0\n",
       "215392   182955  122315  341524                   0\n",
       "215391   182953  122313  341523                   0\n",
       "215406   201419  133030  341534                   0\n",
       "215390   182951  122312  341522                   0\n",
       "215407   182976  122327  341536                   0\n",
       "215409   182978  122329  341538                   0\n",
       "215424   182997  122343  341554                   0\n",
       "215423   182996  122342  341553                   0\n",
       "215422   182994  122340  341552                   0\n",
       "215421   182993  122339  341551                   0\n",
       "215420   182992  122338  341550                   0\n",
       "215419   249722  160436  341549                   0\n",
       "215418   182990  122337  341549                   0\n",
       "215417   395723  122336  445371                   0\n",
       "215416   182988  122336  341547                   0\n",
       "215415   182987  122335  341546                   0\n",
       "...         ...     ...     ...                 ...\n",
       "203       98031   22701   11983                  32\n",
       "155      248012   13699   30079                  32\n",
       "385      241750    9879   18991                  33\n",
       "9515     331287    3389    6205                  33\n",
       "22918    355649    3114   29409                  33\n",
       "52       380133   11983   49466                  33\n",
       "180       56397   13073    2628                  33\n",
       "7412      96504    5519   11448                  33\n",
       "15534    382091    9879   30587                  33\n",
       "379       82653    4894   18991                  34\n",
       "9558      36063   10585   17257                  34\n",
       "11311    316048    1419   40521                  34\n",
       "196      287913   13073   11983                  34\n",
       "9495     147176   10585   55992                  34\n",
       "15444    289600    8353    9879                  34\n",
       "604      278649   30587    4894                  34\n",
       "26759    179505   10585   24137                  34\n",
       "482      249513    9879   64296                  34\n",
       "26744    223395   10585    1557                  34\n",
       "152       81698   11983   30079                  34\n",
       "154       75377   13073   30079                  34\n",
       "187       12919    2628   11983                  34\n",
       "588      165422    8353    4894                  35\n",
       "9524      13537   10585    6205                  35\n",
       "611      326041   64296    4894                  35\n",
       "145      286947    2628   30079                  35\n",
       "581      328610    4113    4894                  36\n",
       "7588     364925    5672    5519                  36\n",
       "26771    313737    3389   10585                  37\n",
       "590       14734    9879    4894                  38\n",
       "\n",
       "[323164 rows x 4 columns]"
      ]
     },
     "execution_count": 127,
     "metadata": {},
     "output_type": "execute_result"
    }
   ],
   "source": [
    "train_ic.sort_values(\"intersection_count\")"
   ]
  },
  {
   "cell_type": "code",
   "execution_count": 11,
   "metadata": {
    "ExecuteTime": {
     "end_time": "2018-11-24T13:25:03.266660Z",
     "start_time": "2018-11-24T13:25:03.254694Z"
    }
   },
   "outputs": [
    {
     "data": {
      "text/html": [
       "<div>\n",
       "<style scoped>\n",
       "    .dataframe tbody tr th:only-of-type {\n",
       "        vertical-align: middle;\n",
       "    }\n",
       "\n",
       "    .dataframe tbody tr th {\n",
       "        vertical-align: top;\n",
       "    }\n",
       "\n",
       "    .dataframe thead th {\n",
       "        text-align: right;\n",
       "    }\n",
       "</style>\n",
       "<table border=\"1\" class=\"dataframe\">\n",
       "  <thead>\n",
       "    <tr style=\"text-align: right;\">\n",
       "      <th></th>\n",
       "      <th>weight</th>\n",
       "      <th>cost</th>\n",
       "    </tr>\n",
       "  </thead>\n",
       "  <tbody>\n",
       "    <tr>\n",
       "      <th>0</th>\n",
       "      <td>4</td>\n",
       "      <td>7</td>\n",
       "    </tr>\n",
       "    <tr>\n",
       "      <th>1</th>\n",
       "      <td>7</td>\n",
       "      <td>1</td>\n",
       "    </tr>\n",
       "    <tr>\n",
       "      <th>2</th>\n",
       "      <td>10</td>\n",
       "      <td>9</td>\n",
       "    </tr>\n",
       "  </tbody>\n",
       "</table>\n",
       "</div>"
      ],
      "text/plain": [
       "   weight  cost\n",
       "0       4     7\n",
       "1       7     1\n",
       "2      10     9"
      ]
     },
     "execution_count": 11,
     "metadata": {},
     "output_type": "execute_result"
    }
   ],
   "source": [
    "df"
   ]
  },
  {
   "cell_type": "code",
   "execution_count": 12,
   "metadata": {
    "ExecuteTime": {
     "end_time": "2018-11-24T13:25:39.040993Z",
     "start_time": "2018-11-24T13:25:39.019809Z"
    }
   },
   "outputs": [
    {
     "data": {
      "text/plain": [
       "'red'"
      ]
     },
     "execution_count": 12,
     "metadata": {},
     "output_type": "execute_result"
    }
   ],
   "source": [
    "import pandas as pd\n",
    "pd.options.display.max_columns = 20\n",
    "import numpy as np\n",
    "rng = np.random.RandomState(seed=5)\n",
    "ints = rng.randint(1, 11, size=(3,2))\n",
    "a = ['A', 'B', 'C']\n",
    "b = ['D', 'A', 'E']\n",
    "df = pd.DataFrame(ints, columns=['weight', 'cost'])\n",
    "df[0] = a\n",
    "df['b'] = b\n",
    "df[['weight', 'cost', 0, 'b']]\n",
    "\n",
    "G = nx.from_pandas_edgelist(df, 0, 'b', ['weight', 'cost'])\n",
    "G['E']['C']['weight']\n",
    "\n",
    "G['E']['C']['cost']\n",
    "\n",
    "edges = pd.DataFrame({'source': [0, 1, 2],\n",
    "                      'target': [2, 2, 3],\n",
    "                      'weight': [3, 4, 5],\n",
    "                      'color': ['red', 'blue', 'blue']})\n",
    "G = nx.from_pandas_edgelist(edges, edge_attr=True)\n",
    "G[0][2]['color']"
   ]
  },
  {
   "cell_type": "code",
   "execution_count": 14,
   "metadata": {
    "ExecuteTime": {
     "end_time": "2018-11-24T13:25:51.956132Z",
     "start_time": "2018-11-24T13:25:51.951153Z"
    }
   },
   "outputs": [
    {
     "data": {
      "text/plain": [
       "EdgeView([(0, 2), (2, 1), (2, 3)])"
      ]
     },
     "execution_count": 14,
     "metadata": {},
     "output_type": "execute_result"
    }
   ],
   "source": [
    "G.edges"
   ]
  },
  {
   "cell_type": "code",
   "execution_count": 16,
   "metadata": {
    "ExecuteTime": {
     "end_time": "2018-11-24T13:26:06.148991Z",
     "start_time": "2018-11-24T13:26:05.894390Z"
    }
   },
   "outputs": [
    {
     "data": {
      "image/png": "[encoded data removed]",
      "text/plain": [
       "<Figure size 432x288 with 1 Axes>"
      ]
     },
     "metadata": {
      "needs_background": "light"
     },
     "output_type": "display_data"
    }
   ],
   "source": [
    "nx.draw_networkx(G, with_labels=False)"
   ]
  },
  {
   "cell_type": "code",
   "execution_count": 18,
   "metadata": {
    "ExecuteTime": {
     "end_time": "2018-11-24T13:27:25.617190Z",
     "start_time": "2018-11-24T13:27:25.614244Z"
    }
   },
   "outputs": [],
   "source": [
    "g2 = G[2]"
   ]
  },
  {
   "cell_type": "code",
   "execution_count": 31,
   "metadata": {
    "ExecuteTime": {
     "end_time": "2018-11-24T13:30:48.114370Z",
     "start_time": "2018-11-24T13:30:48.107696Z"
    }
   },
   "outputs": [
    {
     "data": {
      "text/plain": [
       "DegreeView({3: 1})"
      ]
     },
     "execution_count": 31,
     "metadata": {},
     "output_type": "execute_result"
    }
   ],
   "source": [
    "G.degree([3])"
   ]
  },
  {
   "cell_type": "code",
   "execution_count": 20,
   "metadata": {
    "ExecuteTime": {
     "end_time": "2018-11-24T13:29:39.552459Z",
     "start_time": "2018-11-24T13:29:39.546418Z"
    }
   },
   "outputs": [
    {
     "data": {
      "text/plain": [
       "NodeView((0, 2, 1, 3))"
      ]
     },
     "execution_count": 20,
     "metadata": {},
     "output_type": "execute_result"
    }
   ],
   "source": [
    "\n",
    "G.nodes"
   ]
  },
  {
   "cell_type": "code",
   "execution_count": null,
   "metadata": {},
   "outputs": [],
   "source": []
  }
 ],
 "metadata": {
  "kernelspec": {
   "display_name": "AML",
   "language": "python",
   "name": "aml"
  },
  "language_info": {
   "codemirror_mode": {
    "name": "ipython",
    "version": 3
   },
   "file_extension": ".py",
   "mimetype": "text/x-python",
   "name": "python",
   "nbconvert_exporter": "python",
   "pygments_lexer": "ipython3",
   "version": "3.6.7"
  },
  "toc": {
   "base_numbering": 1,
   "nav_menu": {},
   "number_sections": true,
   "sideBar": true,
   "skip_h1_title": false,
   "title_cell": "Table of Contents",
   "title_sidebar": "Contents",
   "toc_cell": false,
   "toc_position": {},
   "toc_section_display": true,
   "toc_window_display": false
  }
 },
 "nbformat": 4,
 "nbformat_minor": 2
}
